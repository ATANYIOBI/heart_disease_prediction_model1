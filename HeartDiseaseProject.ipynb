{
  "cells": [
    {
      "cell_type": "markdown",
      "id": "2f57f916",
      "metadata": {
        "id": "2f57f916"
      },
      "source": [
        "# Problem Statement:"
      ]
    },
    {
      "cell_type": "markdown",
      "id": "d3e8b377",
      "metadata": {
        "id": "d3e8b377"
      },
      "source": [
        "'''\n",
        "Coupled with the fact that the symptoms of Heart diseases cannot be detected until the condition becomes chronic, it is therefore challenging and scary for medical health experts to identify heart disease at its early stages. Many individuals could be suffering from the disease without their knowledge as they are not aware of the signs and symptoms of disease because it might be at an early stage.\n",
        "\n",
        "Thus, a significant constraint found by health care workers is to predict heart diseases at an early stage, at minimal cost and at the same time provide a better health care system to treat the disease especially when there are robust machine learning algorithms and technologies that can be used in achieving this feat with a degree of accuracy and efficiency.\n",
        "'''\n"
      ]
    },
    {
      "cell_type": "markdown",
      "id": "c00747b7",
      "metadata": {
        "id": "c00747b7"
      },
      "source": [
        "# importing the necessary libraries"
      ]
    },
    {
      "cell_type": "code",
      "execution_count": null,
      "id": "2a19ac55",
      "metadata": {
        "id": "2a19ac55"
      },
      "outputs": [],
      "source": [
        "import numpy as np\n",
        "import pandas as pd\n",
        "import matplotlib.pyplot as plt\n",
        "import seaborn as sns\n",
        "%matplotlib inline"
      ]
    },
    {
      "cell_type": "code",
      "execution_count": null,
      "id": "baa12561",
      "metadata": {
        "id": "baa12561"
      },
      "outputs": [],
      "source": [
        "#loading the dataset from the local machine\n",
        "HD_frame = pd.read_csv('heart.csv')\n"
      ]
    },
    {
      "cell_type": "code",
      "execution_count": null,
      "id": "f7f2d414",
      "metadata": {
        "id": "f7f2d414",
        "outputId": "997e5b9a-f300-4fc5-f032-b4959449eb1a"
      },
      "outputs": [
        {
          "data": {
            "text/html": [
              "<div>\n",
              "<style scoped>\n",
              "    .dataframe tbody tr th:only-of-type {\n",
              "        vertical-align: middle;\n",
              "    }\n",
              "\n",
              "    .dataframe tbody tr th {\n",
              "        vertical-align: top;\n",
              "    }\n",
              "\n",
              "    .dataframe thead th {\n",
              "        text-align: right;\n",
              "    }\n",
              "</style>\n",
              "<table border=\"1\" class=\"dataframe\">\n",
              "  <thead>\n",
              "    <tr style=\"text-align: right;\">\n",
              "      <th></th>\n",
              "      <th>age</th>\n",
              "      <th>sex</th>\n",
              "      <th>cp</th>\n",
              "      <th>trestbps</th>\n",
              "      <th>chol</th>\n",
              "      <th>fbs</th>\n",
              "      <th>restecg</th>\n",
              "      <th>thalach</th>\n",
              "      <th>exang</th>\n",
              "      <th>oldpeak</th>\n",
              "      <th>slope</th>\n",
              "      <th>ca</th>\n",
              "      <th>thal</th>\n",
              "      <th>target</th>\n",
              "    </tr>\n",
              "  </thead>\n",
              "  <tbody>\n",
              "    <tr>\n",
              "      <th>0</th>\n",
              "      <td>52.0</td>\n",
              "      <td>1.0</td>\n",
              "      <td>0.0</td>\n",
              "      <td>125.0</td>\n",
              "      <td>212.0</td>\n",
              "      <td>0.0</td>\n",
              "      <td>1.0</td>\n",
              "      <td>168.0</td>\n",
              "      <td>0.0</td>\n",
              "      <td>1.0</td>\n",
              "      <td>2.0</td>\n",
              "      <td>2.0</td>\n",
              "      <td>3.0</td>\n",
              "      <td>0.0</td>\n",
              "    </tr>\n",
              "    <tr>\n",
              "      <th>1</th>\n",
              "      <td>53.0</td>\n",
              "      <td>1.0</td>\n",
              "      <td>0.0</td>\n",
              "      <td>140.0</td>\n",
              "      <td>203.0</td>\n",
              "      <td>1.0</td>\n",
              "      <td>0.0</td>\n",
              "      <td>155.0</td>\n",
              "      <td>1.0</td>\n",
              "      <td>3.1</td>\n",
              "      <td>0.0</td>\n",
              "      <td>0.0</td>\n",
              "      <td>3.0</td>\n",
              "      <td>0.0</td>\n",
              "    </tr>\n",
              "    <tr>\n",
              "      <th>2</th>\n",
              "      <td>70.0</td>\n",
              "      <td>1.0</td>\n",
              "      <td>0.0</td>\n",
              "      <td>145.0</td>\n",
              "      <td>174.0</td>\n",
              "      <td>0.0</td>\n",
              "      <td>1.0</td>\n",
              "      <td>125.0</td>\n",
              "      <td>1.0</td>\n",
              "      <td>2.6</td>\n",
              "      <td>0.0</td>\n",
              "      <td>0.0</td>\n",
              "      <td>3.0</td>\n",
              "      <td>0.0</td>\n",
              "    </tr>\n",
              "    <tr>\n",
              "      <th>3</th>\n",
              "      <td>61.0</td>\n",
              "      <td>1.0</td>\n",
              "      <td>0.0</td>\n",
              "      <td>148.0</td>\n",
              "      <td>203.0</td>\n",
              "      <td>0.0</td>\n",
              "      <td>1.0</td>\n",
              "      <td>161.0</td>\n",
              "      <td>0.0</td>\n",
              "      <td>0.0</td>\n",
              "      <td>2.0</td>\n",
              "      <td>1.0</td>\n",
              "      <td>3.0</td>\n",
              "      <td>0.0</td>\n",
              "    </tr>\n",
              "    <tr>\n",
              "      <th>4</th>\n",
              "      <td>62.0</td>\n",
              "      <td>0.0</td>\n",
              "      <td>0.0</td>\n",
              "      <td>138.0</td>\n",
              "      <td>294.0</td>\n",
              "      <td>1.0</td>\n",
              "      <td>1.0</td>\n",
              "      <td>106.0</td>\n",
              "      <td>0.0</td>\n",
              "      <td>1.9</td>\n",
              "      <td>1.0</td>\n",
              "      <td>3.0</td>\n",
              "      <td>2.0</td>\n",
              "      <td>0.0</td>\n",
              "    </tr>\n",
              "    <tr>\n",
              "      <th>5</th>\n",
              "      <td>58.0</td>\n",
              "      <td>0.0</td>\n",
              "      <td>0.0</td>\n",
              "      <td>100.0</td>\n",
              "      <td>248.0</td>\n",
              "      <td>0.0</td>\n",
              "      <td>0.0</td>\n",
              "      <td>122.0</td>\n",
              "      <td>0.0</td>\n",
              "      <td>1.0</td>\n",
              "      <td>1.0</td>\n",
              "      <td>0.0</td>\n",
              "      <td>2.0</td>\n",
              "      <td>1.0</td>\n",
              "    </tr>\n",
              "    <tr>\n",
              "      <th>6</th>\n",
              "      <td>58.0</td>\n",
              "      <td>1.0</td>\n",
              "      <td>0.0</td>\n",
              "      <td>114.0</td>\n",
              "      <td>318.0</td>\n",
              "      <td>0.0</td>\n",
              "      <td>2.0</td>\n",
              "      <td>140.0</td>\n",
              "      <td>0.0</td>\n",
              "      <td>4.4</td>\n",
              "      <td>0.0</td>\n",
              "      <td>3.0</td>\n",
              "      <td>1.0</td>\n",
              "      <td>0.0</td>\n",
              "    </tr>\n",
              "    <tr>\n",
              "      <th>7</th>\n",
              "      <td>55.0</td>\n",
              "      <td>1.0</td>\n",
              "      <td>0.0</td>\n",
              "      <td>160.0</td>\n",
              "      <td>289.0</td>\n",
              "      <td>0.0</td>\n",
              "      <td>0.0</td>\n",
              "      <td>145.0</td>\n",
              "      <td>1.0</td>\n",
              "      <td>0.8</td>\n",
              "      <td>1.0</td>\n",
              "      <td>1.0</td>\n",
              "      <td>3.0</td>\n",
              "      <td>0.0</td>\n",
              "    </tr>\n",
              "    <tr>\n",
              "      <th>8</th>\n",
              "      <td>46.0</td>\n",
              "      <td>1.0</td>\n",
              "      <td>0.0</td>\n",
              "      <td>120.0</td>\n",
              "      <td>249.0</td>\n",
              "      <td>0.0</td>\n",
              "      <td>0.0</td>\n",
              "      <td>144.0</td>\n",
              "      <td>0.0</td>\n",
              "      <td>0.8</td>\n",
              "      <td>2.0</td>\n",
              "      <td>0.0</td>\n",
              "      <td>3.0</td>\n",
              "      <td>0.0</td>\n",
              "    </tr>\n",
              "    <tr>\n",
              "      <th>9</th>\n",
              "      <td>54.0</td>\n",
              "      <td>1.0</td>\n",
              "      <td>0.0</td>\n",
              "      <td>122.0</td>\n",
              "      <td>286.0</td>\n",
              "      <td>0.0</td>\n",
              "      <td>0.0</td>\n",
              "      <td>116.0</td>\n",
              "      <td>1.0</td>\n",
              "      <td>3.2</td>\n",
              "      <td>1.0</td>\n",
              "      <td>2.0</td>\n",
              "      <td>2.0</td>\n",
              "      <td>0.0</td>\n",
              "    </tr>\n",
              "  </tbody>\n",
              "</table>\n",
              "</div>"
            ],
            "text/plain": [
              "    age  sex   cp  trestbps   chol  fbs  restecg  thalach  exang  oldpeak  \\\n",
              "0  52.0  1.0  0.0     125.0  212.0  0.0      1.0    168.0    0.0      1.0   \n",
              "1  53.0  1.0  0.0     140.0  203.0  1.0      0.0    155.0    1.0      3.1   \n",
              "2  70.0  1.0  0.0     145.0  174.0  0.0      1.0    125.0    1.0      2.6   \n",
              "3  61.0  1.0  0.0     148.0  203.0  0.0      1.0    161.0    0.0      0.0   \n",
              "4  62.0  0.0  0.0     138.0  294.0  1.0      1.0    106.0    0.0      1.9   \n",
              "5  58.0  0.0  0.0     100.0  248.0  0.0      0.0    122.0    0.0      1.0   \n",
              "6  58.0  1.0  0.0     114.0  318.0  0.0      2.0    140.0    0.0      4.4   \n",
              "7  55.0  1.0  0.0     160.0  289.0  0.0      0.0    145.0    1.0      0.8   \n",
              "8  46.0  1.0  0.0     120.0  249.0  0.0      0.0    144.0    0.0      0.8   \n",
              "9  54.0  1.0  0.0     122.0  286.0  0.0      0.0    116.0    1.0      3.2   \n",
              "\n",
              "   slope   ca  thal  target  \n",
              "0    2.0  2.0   3.0     0.0  \n",
              "1    0.0  0.0   3.0     0.0  \n",
              "2    0.0  0.0   3.0     0.0  \n",
              "3    2.0  1.0   3.0     0.0  \n",
              "4    1.0  3.0   2.0     0.0  \n",
              "5    1.0  0.0   2.0     1.0  \n",
              "6    0.0  3.0   1.0     0.0  \n",
              "7    1.0  1.0   3.0     0.0  \n",
              "8    2.0  0.0   3.0     0.0  \n",
              "9    1.0  2.0   2.0     0.0  "
            ]
          },
          "execution_count": 3,
          "metadata": {},
          "output_type": "execute_result"
        }
      ],
      "source": [
        "#inspecting the sample dataset\n",
        "HD_frame.head(10)"
      ]
    },
    {
      "cell_type": "code",
      "execution_count": null,
      "id": "ca7c3ac0",
      "metadata": {
        "id": "ca7c3ac0"
      },
      "outputs": [],
      "source": [
        "# data transformation (adding smoking column)\n",
        "HD_frame['smoking'] = HD_frame['target']*1\n"
      ]
    },
    {
      "cell_type": "code",
      "execution_count": null,
      "id": "13dfa90c",
      "metadata": {
        "id": "13dfa90c",
        "outputId": "85e7b8fe-3e41-4901-d699-774d3040b078"
      },
      "outputs": [
        {
          "data": {
            "text/html": [
              "<div>\n",
              "<style scoped>\n",
              "    .dataframe tbody tr th:only-of-type {\n",
              "        vertical-align: middle;\n",
              "    }\n",
              "\n",
              "    .dataframe tbody tr th {\n",
              "        vertical-align: top;\n",
              "    }\n",
              "\n",
              "    .dataframe thead th {\n",
              "        text-align: right;\n",
              "    }\n",
              "</style>\n",
              "<table border=\"1\" class=\"dataframe\">\n",
              "  <thead>\n",
              "    <tr style=\"text-align: right;\">\n",
              "      <th></th>\n",
              "      <th>age</th>\n",
              "      <th>sex</th>\n",
              "      <th>cp</th>\n",
              "      <th>trestbps</th>\n",
              "      <th>chol</th>\n",
              "      <th>fbs</th>\n",
              "      <th>restecg</th>\n",
              "      <th>thalach</th>\n",
              "      <th>exang</th>\n",
              "      <th>oldpeak</th>\n",
              "      <th>slope</th>\n",
              "      <th>ca</th>\n",
              "      <th>thal</th>\n",
              "      <th>target</th>\n",
              "      <th>smoking</th>\n",
              "    </tr>\n",
              "  </thead>\n",
              "  <tbody>\n",
              "    <tr>\n",
              "      <th>count</th>\n",
              "      <td>1025.000000</td>\n",
              "      <td>1025.000000</td>\n",
              "      <td>1025.000000</td>\n",
              "      <td>1025.000000</td>\n",
              "      <td>1025.00000</td>\n",
              "      <td>1025.000000</td>\n",
              "      <td>1025.000000</td>\n",
              "      <td>1025.000000</td>\n",
              "      <td>1025.000000</td>\n",
              "      <td>1025.000000</td>\n",
              "      <td>1025.000000</td>\n",
              "      <td>1025.000000</td>\n",
              "      <td>1025.000000</td>\n",
              "      <td>1002.000000</td>\n",
              "      <td>1002.000000</td>\n",
              "    </tr>\n",
              "    <tr>\n",
              "      <th>mean</th>\n",
              "      <td>54.434146</td>\n",
              "      <td>0.695610</td>\n",
              "      <td>0.942439</td>\n",
              "      <td>131.611707</td>\n",
              "      <td>246.00000</td>\n",
              "      <td>0.149268</td>\n",
              "      <td>0.529756</td>\n",
              "      <td>149.114146</td>\n",
              "      <td>0.336585</td>\n",
              "      <td>1.071512</td>\n",
              "      <td>1.385366</td>\n",
              "      <td>0.754146</td>\n",
              "      <td>2.323902</td>\n",
              "      <td>0.498004</td>\n",
              "      <td>0.498004</td>\n",
              "    </tr>\n",
              "    <tr>\n",
              "      <th>std</th>\n",
              "      <td>9.072290</td>\n",
              "      <td>0.460373</td>\n",
              "      <td>1.029641</td>\n",
              "      <td>17.516718</td>\n",
              "      <td>51.59251</td>\n",
              "      <td>0.356527</td>\n",
              "      <td>0.527878</td>\n",
              "      <td>23.005724</td>\n",
              "      <td>0.472772</td>\n",
              "      <td>1.175053</td>\n",
              "      <td>0.617755</td>\n",
              "      <td>1.030798</td>\n",
              "      <td>0.620660</td>\n",
              "      <td>0.500246</td>\n",
              "      <td>0.500246</td>\n",
              "    </tr>\n",
              "    <tr>\n",
              "      <th>min</th>\n",
              "      <td>29.000000</td>\n",
              "      <td>0.000000</td>\n",
              "      <td>0.000000</td>\n",
              "      <td>94.000000</td>\n",
              "      <td>126.00000</td>\n",
              "      <td>0.000000</td>\n",
              "      <td>0.000000</td>\n",
              "      <td>71.000000</td>\n",
              "      <td>0.000000</td>\n",
              "      <td>0.000000</td>\n",
              "      <td>0.000000</td>\n",
              "      <td>0.000000</td>\n",
              "      <td>0.000000</td>\n",
              "      <td>0.000000</td>\n",
              "      <td>0.000000</td>\n",
              "    </tr>\n",
              "    <tr>\n",
              "      <th>25%</th>\n",
              "      <td>48.000000</td>\n",
              "      <td>0.000000</td>\n",
              "      <td>0.000000</td>\n",
              "      <td>120.000000</td>\n",
              "      <td>211.00000</td>\n",
              "      <td>0.000000</td>\n",
              "      <td>0.000000</td>\n",
              "      <td>132.000000</td>\n",
              "      <td>0.000000</td>\n",
              "      <td>0.000000</td>\n",
              "      <td>1.000000</td>\n",
              "      <td>0.000000</td>\n",
              "      <td>2.000000</td>\n",
              "      <td>0.000000</td>\n",
              "      <td>0.000000</td>\n",
              "    </tr>\n",
              "    <tr>\n",
              "      <th>50%</th>\n",
              "      <td>56.000000</td>\n",
              "      <td>1.000000</td>\n",
              "      <td>1.000000</td>\n",
              "      <td>130.000000</td>\n",
              "      <td>240.00000</td>\n",
              "      <td>0.000000</td>\n",
              "      <td>1.000000</td>\n",
              "      <td>152.000000</td>\n",
              "      <td>0.000000</td>\n",
              "      <td>0.800000</td>\n",
              "      <td>1.000000</td>\n",
              "      <td>0.000000</td>\n",
              "      <td>2.000000</td>\n",
              "      <td>0.000000</td>\n",
              "      <td>0.000000</td>\n",
              "    </tr>\n",
              "    <tr>\n",
              "      <th>75%</th>\n",
              "      <td>61.000000</td>\n",
              "      <td>1.000000</td>\n",
              "      <td>2.000000</td>\n",
              "      <td>140.000000</td>\n",
              "      <td>275.00000</td>\n",
              "      <td>0.000000</td>\n",
              "      <td>1.000000</td>\n",
              "      <td>166.000000</td>\n",
              "      <td>1.000000</td>\n",
              "      <td>1.800000</td>\n",
              "      <td>2.000000</td>\n",
              "      <td>1.000000</td>\n",
              "      <td>3.000000</td>\n",
              "      <td>1.000000</td>\n",
              "      <td>1.000000</td>\n",
              "    </tr>\n",
              "    <tr>\n",
              "      <th>max</th>\n",
              "      <td>77.000000</td>\n",
              "      <td>1.000000</td>\n",
              "      <td>3.000000</td>\n",
              "      <td>200.000000</td>\n",
              "      <td>564.00000</td>\n",
              "      <td>1.000000</td>\n",
              "      <td>2.000000</td>\n",
              "      <td>202.000000</td>\n",
              "      <td>1.000000</td>\n",
              "      <td>6.200000</td>\n",
              "      <td>2.000000</td>\n",
              "      <td>4.000000</td>\n",
              "      <td>3.000000</td>\n",
              "      <td>1.000000</td>\n",
              "      <td>1.000000</td>\n",
              "    </tr>\n",
              "  </tbody>\n",
              "</table>\n",
              "</div>"
            ],
            "text/plain": [
              "               age          sex           cp     trestbps        chol  \\\n",
              "count  1025.000000  1025.000000  1025.000000  1025.000000  1025.00000   \n",
              "mean     54.434146     0.695610     0.942439   131.611707   246.00000   \n",
              "std       9.072290     0.460373     1.029641    17.516718    51.59251   \n",
              "min      29.000000     0.000000     0.000000    94.000000   126.00000   \n",
              "25%      48.000000     0.000000     0.000000   120.000000   211.00000   \n",
              "50%      56.000000     1.000000     1.000000   130.000000   240.00000   \n",
              "75%      61.000000     1.000000     2.000000   140.000000   275.00000   \n",
              "max      77.000000     1.000000     3.000000   200.000000   564.00000   \n",
              "\n",
              "               fbs      restecg      thalach        exang      oldpeak  \\\n",
              "count  1025.000000  1025.000000  1025.000000  1025.000000  1025.000000   \n",
              "mean      0.149268     0.529756   149.114146     0.336585     1.071512   \n",
              "std       0.356527     0.527878    23.005724     0.472772     1.175053   \n",
              "min       0.000000     0.000000    71.000000     0.000000     0.000000   \n",
              "25%       0.000000     0.000000   132.000000     0.000000     0.000000   \n",
              "50%       0.000000     1.000000   152.000000     0.000000     0.800000   \n",
              "75%       0.000000     1.000000   166.000000     1.000000     1.800000   \n",
              "max       1.000000     2.000000   202.000000     1.000000     6.200000   \n",
              "\n",
              "             slope           ca         thal       target      smoking  \n",
              "count  1025.000000  1025.000000  1025.000000  1002.000000  1002.000000  \n",
              "mean      1.385366     0.754146     2.323902     0.498004     0.498004  \n",
              "std       0.617755     1.030798     0.620660     0.500246     0.500246  \n",
              "min       0.000000     0.000000     0.000000     0.000000     0.000000  \n",
              "25%       1.000000     0.000000     2.000000     0.000000     0.000000  \n",
              "50%       1.000000     0.000000     2.000000     0.000000     0.000000  \n",
              "75%       2.000000     1.000000     3.000000     1.000000     1.000000  \n",
              "max       2.000000     4.000000     3.000000     1.000000     1.000000  "
            ]
          },
          "execution_count": 5,
          "metadata": {},
          "output_type": "execute_result"
        }
      ],
      "source": [
        "# to get a concise summary of the heart disease dataset\n",
        "HD_frame.describe()"
      ]
    },
    {
      "cell_type": "code",
      "execution_count": null,
      "id": "09390a60",
      "metadata": {
        "id": "09390a60",
        "outputId": "40e682ff-bd55-4410-fb92-f2d05bd08f93"
      },
      "outputs": [
        {
          "name": "stdout",
          "output_type": "stream",
          "text": [
            "<class 'pandas.core.frame.DataFrame'>\n",
            "RangeIndex: 1032 entries, 0 to 1031\n",
            "Data columns (total 15 columns):\n",
            " #   Column    Non-Null Count  Dtype  \n",
            "---  ------    --------------  -----  \n",
            " 0   age       1025 non-null   float64\n",
            " 1   sex       1025 non-null   float64\n",
            " 2   cp        1025 non-null   float64\n",
            " 3   trestbps  1025 non-null   float64\n",
            " 4   chol      1025 non-null   float64\n",
            " 5   fbs       1025 non-null   float64\n",
            " 6   restecg   1025 non-null   float64\n",
            " 7   thalach   1025 non-null   float64\n",
            " 8   exang     1025 non-null   float64\n",
            " 9   oldpeak   1025 non-null   float64\n",
            " 10  slope     1025 non-null   float64\n",
            " 11  ca        1025 non-null   float64\n",
            " 12  thal      1025 non-null   float64\n",
            " 13  target    1002 non-null   float64\n",
            " 14  smoking   1002 non-null   float64\n",
            "dtypes: float64(15)\n",
            "memory usage: 121.1 KB\n"
          ]
        }
      ],
      "source": [
        "#basic information about the dataset\n",
        "HD_frame.info()"
      ]
    },
    {
      "cell_type": "code",
      "execution_count": null,
      "id": "5a6b9845",
      "metadata": {
        "id": "5a6b9845",
        "outputId": "d019af0e-c91f-4f4e-ffb0-712d57060f5c"
      },
      "outputs": [
        {
          "data": {
            "text/plain": [
              "Index(['age', 'sex', 'cp', 'trestbps', 'chol', 'fbs', 'restecg', 'thalach',\n",
              "       'exang', 'oldpeak', 'slope', 'ca', 'thal', 'target', 'smoking'],\n",
              "      dtype='object')"
            ]
          },
          "execution_count": 7,
          "metadata": {},
          "output_type": "execute_result"
        }
      ],
      "source": [
        "#series in the dataset\n",
        "HD_frame.columns"
      ]
    },
    {
      "cell_type": "code",
      "execution_count": null,
      "id": "65a2f754",
      "metadata": {
        "id": "65a2f754",
        "outputId": "388df78e-67ca-4b00-d6bf-1d8a04d61858"
      },
      "outputs": [
        {
          "data": {
            "text/plain": [
              "(1032, 15)"
            ]
          },
          "execution_count": 8,
          "metadata": {},
          "output_type": "execute_result"
        }
      ],
      "source": [
        "# size of the dataset\n",
        "HD_frame.shape"
      ]
    },
    {
      "cell_type": "code",
      "execution_count": null,
      "id": "a234613a",
      "metadata": {
        "id": "a234613a",
        "outputId": "ad13c029-bcdc-499f-a8f7-bb99ef8da14f"
      },
      "outputs": [
        {
          "data": {
            "text/plain": [
              "0       0.0\n",
              "1       0.0\n",
              "2       0.0\n",
              "3       0.0\n",
              "4       0.0\n",
              "       ... \n",
              "1027    0.0\n",
              "1028    0.0\n",
              "1029    0.0\n",
              "1030    0.0\n",
              "1031    1.0\n",
              "Name: target, Length: 1032, dtype: float64"
            ]
          },
          "execution_count": 9,
          "metadata": {},
          "output_type": "execute_result"
        }
      ],
      "source": [
        "# checking for missing values\n",
        "HD_frame['target']"
      ]
    },
    {
      "cell_type": "code",
      "execution_count": null,
      "id": "926188fe",
      "metadata": {
        "id": "926188fe",
        "outputId": "3503693a-e8d1-4e75-c38a-8f0726fb0640"
      },
      "outputs": [
        {
          "data": {
            "text/html": [
              "<div>\n",
              "<style scoped>\n",
              "    .dataframe tbody tr th:only-of-type {\n",
              "        vertical-align: middle;\n",
              "    }\n",
              "\n",
              "    .dataframe tbody tr th {\n",
              "        vertical-align: top;\n",
              "    }\n",
              "\n",
              "    .dataframe thead th {\n",
              "        text-align: right;\n",
              "    }\n",
              "</style>\n",
              "<table border=\"1\" class=\"dataframe\">\n",
              "  <thead>\n",
              "    <tr style=\"text-align: right;\">\n",
              "      <th></th>\n",
              "      <th>age</th>\n",
              "      <th>sex</th>\n",
              "      <th>cp</th>\n",
              "      <th>trestbps</th>\n",
              "      <th>chol</th>\n",
              "      <th>fbs</th>\n",
              "      <th>restecg</th>\n",
              "      <th>thalach</th>\n",
              "      <th>exang</th>\n",
              "      <th>oldpeak</th>\n",
              "      <th>slope</th>\n",
              "      <th>ca</th>\n",
              "      <th>thal</th>\n",
              "      <th>target</th>\n",
              "      <th>smoking</th>\n",
              "    </tr>\n",
              "  </thead>\n",
              "  <tbody>\n",
              "    <tr>\n",
              "      <th>0</th>\n",
              "      <td>False</td>\n",
              "      <td>False</td>\n",
              "      <td>False</td>\n",
              "      <td>False</td>\n",
              "      <td>False</td>\n",
              "      <td>False</td>\n",
              "      <td>False</td>\n",
              "      <td>False</td>\n",
              "      <td>False</td>\n",
              "      <td>False</td>\n",
              "      <td>False</td>\n",
              "      <td>False</td>\n",
              "      <td>False</td>\n",
              "      <td>False</td>\n",
              "      <td>False</td>\n",
              "    </tr>\n",
              "    <tr>\n",
              "      <th>1</th>\n",
              "      <td>False</td>\n",
              "      <td>False</td>\n",
              "      <td>False</td>\n",
              "      <td>False</td>\n",
              "      <td>False</td>\n",
              "      <td>False</td>\n",
              "      <td>False</td>\n",
              "      <td>False</td>\n",
              "      <td>False</td>\n",
              "      <td>False</td>\n",
              "      <td>False</td>\n",
              "      <td>False</td>\n",
              "      <td>False</td>\n",
              "      <td>False</td>\n",
              "      <td>False</td>\n",
              "    </tr>\n",
              "    <tr>\n",
              "      <th>2</th>\n",
              "      <td>False</td>\n",
              "      <td>False</td>\n",
              "      <td>False</td>\n",
              "      <td>False</td>\n",
              "      <td>False</td>\n",
              "      <td>False</td>\n",
              "      <td>False</td>\n",
              "      <td>False</td>\n",
              "      <td>False</td>\n",
              "      <td>False</td>\n",
              "      <td>False</td>\n",
              "      <td>False</td>\n",
              "      <td>False</td>\n",
              "      <td>False</td>\n",
              "      <td>False</td>\n",
              "    </tr>\n",
              "    <tr>\n",
              "      <th>3</th>\n",
              "      <td>False</td>\n",
              "      <td>False</td>\n",
              "      <td>False</td>\n",
              "      <td>False</td>\n",
              "      <td>False</td>\n",
              "      <td>False</td>\n",
              "      <td>False</td>\n",
              "      <td>False</td>\n",
              "      <td>False</td>\n",
              "      <td>False</td>\n",
              "      <td>False</td>\n",
              "      <td>False</td>\n",
              "      <td>False</td>\n",
              "      <td>False</td>\n",
              "      <td>False</td>\n",
              "    </tr>\n",
              "    <tr>\n",
              "      <th>4</th>\n",
              "      <td>False</td>\n",
              "      <td>False</td>\n",
              "      <td>False</td>\n",
              "      <td>False</td>\n",
              "      <td>False</td>\n",
              "      <td>False</td>\n",
              "      <td>False</td>\n",
              "      <td>False</td>\n",
              "      <td>False</td>\n",
              "      <td>False</td>\n",
              "      <td>False</td>\n",
              "      <td>False</td>\n",
              "      <td>False</td>\n",
              "      <td>False</td>\n",
              "      <td>False</td>\n",
              "    </tr>\n",
              "    <tr>\n",
              "      <th>...</th>\n",
              "      <td>...</td>\n",
              "      <td>...</td>\n",
              "      <td>...</td>\n",
              "      <td>...</td>\n",
              "      <td>...</td>\n",
              "      <td>...</td>\n",
              "      <td>...</td>\n",
              "      <td>...</td>\n",
              "      <td>...</td>\n",
              "      <td>...</td>\n",
              "      <td>...</td>\n",
              "      <td>...</td>\n",
              "      <td>...</td>\n",
              "      <td>...</td>\n",
              "      <td>...</td>\n",
              "    </tr>\n",
              "    <tr>\n",
              "      <th>1027</th>\n",
              "      <td>True</td>\n",
              "      <td>True</td>\n",
              "      <td>True</td>\n",
              "      <td>True</td>\n",
              "      <td>True</td>\n",
              "      <td>True</td>\n",
              "      <td>True</td>\n",
              "      <td>True</td>\n",
              "      <td>True</td>\n",
              "      <td>True</td>\n",
              "      <td>True</td>\n",
              "      <td>True</td>\n",
              "      <td>True</td>\n",
              "      <td>False</td>\n",
              "      <td>False</td>\n",
              "    </tr>\n",
              "    <tr>\n",
              "      <th>1028</th>\n",
              "      <td>True</td>\n",
              "      <td>True</td>\n",
              "      <td>True</td>\n",
              "      <td>True</td>\n",
              "      <td>True</td>\n",
              "      <td>True</td>\n",
              "      <td>True</td>\n",
              "      <td>True</td>\n",
              "      <td>True</td>\n",
              "      <td>True</td>\n",
              "      <td>True</td>\n",
              "      <td>True</td>\n",
              "      <td>True</td>\n",
              "      <td>False</td>\n",
              "      <td>False</td>\n",
              "    </tr>\n",
              "    <tr>\n",
              "      <th>1029</th>\n",
              "      <td>True</td>\n",
              "      <td>True</td>\n",
              "      <td>True</td>\n",
              "      <td>True</td>\n",
              "      <td>True</td>\n",
              "      <td>True</td>\n",
              "      <td>True</td>\n",
              "      <td>True</td>\n",
              "      <td>True</td>\n",
              "      <td>True</td>\n",
              "      <td>True</td>\n",
              "      <td>True</td>\n",
              "      <td>True</td>\n",
              "      <td>False</td>\n",
              "      <td>False</td>\n",
              "    </tr>\n",
              "    <tr>\n",
              "      <th>1030</th>\n",
              "      <td>True</td>\n",
              "      <td>True</td>\n",
              "      <td>True</td>\n",
              "      <td>True</td>\n",
              "      <td>True</td>\n",
              "      <td>True</td>\n",
              "      <td>True</td>\n",
              "      <td>True</td>\n",
              "      <td>True</td>\n",
              "      <td>True</td>\n",
              "      <td>True</td>\n",
              "      <td>True</td>\n",
              "      <td>True</td>\n",
              "      <td>False</td>\n",
              "      <td>False</td>\n",
              "    </tr>\n",
              "    <tr>\n",
              "      <th>1031</th>\n",
              "      <td>True</td>\n",
              "      <td>True</td>\n",
              "      <td>True</td>\n",
              "      <td>True</td>\n",
              "      <td>True</td>\n",
              "      <td>True</td>\n",
              "      <td>True</td>\n",
              "      <td>True</td>\n",
              "      <td>True</td>\n",
              "      <td>True</td>\n",
              "      <td>True</td>\n",
              "      <td>True</td>\n",
              "      <td>True</td>\n",
              "      <td>False</td>\n",
              "      <td>False</td>\n",
              "    </tr>\n",
              "  </tbody>\n",
              "</table>\n",
              "<p>1032 rows × 15 columns</p>\n",
              "</div>"
            ],
            "text/plain": [
              "        age    sex     cp  trestbps   chol    fbs  restecg  thalach  exang  \\\n",
              "0     False  False  False     False  False  False    False    False  False   \n",
              "1     False  False  False     False  False  False    False    False  False   \n",
              "2     False  False  False     False  False  False    False    False  False   \n",
              "3     False  False  False     False  False  False    False    False  False   \n",
              "4     False  False  False     False  False  False    False    False  False   \n",
              "...     ...    ...    ...       ...    ...    ...      ...      ...    ...   \n",
              "1027   True   True   True      True   True   True     True     True   True   \n",
              "1028   True   True   True      True   True   True     True     True   True   \n",
              "1029   True   True   True      True   True   True     True     True   True   \n",
              "1030   True   True   True      True   True   True     True     True   True   \n",
              "1031   True   True   True      True   True   True     True     True   True   \n",
              "\n",
              "      oldpeak  slope     ca   thal  target  smoking  \n",
              "0       False  False  False  False   False    False  \n",
              "1       False  False  False  False   False    False  \n",
              "2       False  False  False  False   False    False  \n",
              "3       False  False  False  False   False    False  \n",
              "4       False  False  False  False   False    False  \n",
              "...       ...    ...    ...    ...     ...      ...  \n",
              "1027     True   True   True   True   False    False  \n",
              "1028     True   True   True   True   False    False  \n",
              "1029     True   True   True   True   False    False  \n",
              "1030     True   True   True   True   False    False  \n",
              "1031     True   True   True   True   False    False  \n",
              "\n",
              "[1032 rows x 15 columns]"
            ]
          },
          "execution_count": 10,
          "metadata": {},
          "output_type": "execute_result"
        }
      ],
      "source": [
        "#checking for the missing value\n",
        "HD_frame.isnull()"
      ]
    },
    {
      "cell_type": "code",
      "execution_count": null,
      "id": "70ad1236",
      "metadata": {
        "id": "70ad1236",
        "outputId": "1a63b688-2e65-4c6e-e183-97b598f3d773"
      },
      "outputs": [
        {
          "data": {
            "text/plain": [
              "0.0    503\n",
              "1.0    499\n",
              "Name: target, dtype: int64"
            ]
          },
          "execution_count": 11,
          "metadata": {},
          "output_type": "execute_result"
        }
      ],
      "source": [
        "# determine distinct values in target series\n",
        "HD_frame['target'].value_counts()"
      ]
    },
    {
      "cell_type": "code",
      "execution_count": null,
      "id": "9a8b801e",
      "metadata": {
        "id": "9a8b801e"
      },
      "outputs": [],
      "source": [
        "HD_frame.dropna(inplace = True)\n"
      ]
    },
    {
      "cell_type": "code",
      "execution_count": null,
      "id": "ef347714",
      "metadata": {
        "id": "ef347714",
        "outputId": "66161d0c-7107-44a0-efc0-6dbf08237ca8"
      },
      "outputs": [
        {
          "data": {
            "text/plain": [
              "0     0.0\n",
              "1     0.0\n",
              "2     0.0\n",
              "3     0.0\n",
              "4     0.0\n",
              "5     1.0\n",
              "6     0.0\n",
              "7     0.0\n",
              "8     0.0\n",
              "9     0.0\n",
              "10    1.0\n",
              "11    0.0\n",
              "12    1.0\n",
              "13    0.0\n",
              "14    0.0\n",
              "15    1.0\n",
              "16    1.0\n",
              "17    0.0\n",
              "18    1.0\n",
              "19    1.0\n",
              "Name: target, dtype: float64"
            ]
          },
          "execution_count": 13,
          "metadata": {},
          "output_type": "execute_result"
        }
      ],
      "source": [
        "HD_frame['target'].head(20)\n"
      ]
    },
    {
      "cell_type": "code",
      "execution_count": null,
      "id": "463c5275",
      "metadata": {
        "id": "463c5275",
        "outputId": "61691948-29d2-4c54-fcb3-8c251939dec4"
      },
      "outputs": [
        {
          "data": {
            "text/plain": [
              "1002    0.0\n",
              "1003    1.0\n",
              "1004    1.0\n",
              "1005    0.0\n",
              "1006    1.0\n",
              "1008    1.0\n",
              "1009    0.0\n",
              "1010    0.0\n",
              "1011    1.0\n",
              "1012    0.0\n",
              "1013    0.0\n",
              "1014    1.0\n",
              "1015    0.0\n",
              "1016    0.0\n",
              "1017    0.0\n",
              "1018    0.0\n",
              "1019    1.0\n",
              "1021    0.0\n",
              "1022    0.0\n",
              "1024    0.0\n",
              "Name: target, dtype: float64"
            ]
          },
          "execution_count": 14,
          "metadata": {},
          "output_type": "execute_result"
        }
      ],
      "source": [
        "HD_frame['target'].tail(20)\n"
      ]
    },
    {
      "cell_type": "markdown",
      "id": "c1e982ac",
      "metadata": {
        "id": "c1e982ac"
      },
      "source": [
        "# Data Visualiztion"
      ]
    },
    {
      "cell_type": "code",
      "execution_count": null,
      "id": "4ccb0542",
      "metadata": {
        "id": "4ccb0542",
        "outputId": "ff3d982b-1174-4d87-b3c9-52303fa3fcb0"
      },
      "outputs": [
        {
          "data": {
            "text/plain": [
              "<AxesSubplot:>"
            ]
          },
          "execution_count": 15,
          "metadata": {},
          "output_type": "execute_result"
        },
        {
          "data": {
            "image/png": "[encoded data removed]",
            "text/plain": [
              "<Figure size 720x432 with 2 Axes>"
            ]
          },
          "metadata": {
            "needs_background": "light"
          },
          "output_type": "display_data"
        }
      ],
      "source": [
        "#viewing missing value a plot\n",
        "plt.figure(figsize=(10, 6))\n",
        "sns.heatmap(HD_frame.isnull(),\n",
        "            vmax =1025, cmap ='rainbow')"
      ]
    },
    {
      "cell_type": "code",
      "execution_count": null,
      "id": "e55a3bbf",
      "metadata": {
        "id": "e55a3bbf",
        "outputId": "636bfc86-cdca-4721-d645-119c96e7cea8"
      },
      "outputs": [
        {
          "name": "stdout",
          "output_type": "stream",
          "text": [
            "age \n",
            "\n",
            "58.0    65\n",
            "57.0    57\n",
            "54.0    52\n",
            "59.0    45\n",
            "52.0    42\n",
            "51.0    38\n",
            "56.0    38\n",
            "62.0    37\n",
            "60.0    37\n",
            "44.0    35\n",
            "64.0    32\n",
            "67.0    31\n",
            "63.0    31\n",
            "61.0    31\n",
            "55.0    30\n",
            "41.0    29\n",
            "65.0    26\n",
            "66.0    25\n",
            "43.0    25\n",
            "53.0    25\n",
            "45.0    24\n",
            "42.0    24\n",
            "46.0    23\n",
            "48.0    22\n",
            "50.0    20\n",
            "47.0    18\n",
            "49.0    17\n",
            "35.0    15\n",
            "39.0    14\n",
            "70.0    14\n",
            "38.0    11\n",
            "68.0    11\n",
            "40.0    11\n",
            "69.0     9\n",
            "71.0     8\n",
            "37.0     6\n",
            "34.0     6\n",
            "29.0     4\n",
            "77.0     3\n",
            "76.0     2\n",
            "74.0     2\n",
            "Name: age, dtype: int64\n",
            " \n",
            "sex \n",
            "\n",
            "1.0    698\n",
            "0.0    297\n",
            "Name: sex, dtype: int64\n",
            " \n",
            "cp \n",
            "\n",
            "0.0    489\n",
            "2.0    273\n",
            "1.0    157\n",
            "3.0     76\n",
            "Name: cp, dtype: int64\n",
            " \n",
            "trestbps \n",
            "\n",
            "130.0    122\n",
            "120.0    120\n",
            "140.0    104\n",
            "110.0     61\n",
            "150.0     55\n",
            "138.0     42\n",
            "128.0     38\n",
            "125.0     35\n",
            "160.0     34\n",
            "112.0     29\n",
            "132.0     28\n",
            "118.0     24\n",
            "124.0     20\n",
            "108.0     20\n",
            "135.0     19\n",
            "145.0     17\n",
            "134.0     17\n",
            "152.0     17\n",
            "170.0     15\n",
            "100.0     14\n",
            "122.0     13\n",
            "126.0     10\n",
            "136.0     10\n",
            "180.0     10\n",
            "142.0      9\n",
            "105.0      9\n",
            "115.0      8\n",
            "146.0      8\n",
            "148.0      7\n",
            "178.0      7\n",
            "94.0       7\n",
            "144.0      6\n",
            "102.0      6\n",
            "154.0      4\n",
            "117.0      4\n",
            "165.0      4\n",
            "200.0      4\n",
            "114.0      4\n",
            "123.0      4\n",
            "192.0      3\n",
            "106.0      3\n",
            "104.0      3\n",
            "129.0      3\n",
            "174.0      3\n",
            "155.0      3\n",
            "172.0      3\n",
            "164.0      3\n",
            "156.0      3\n",
            "101.0      3\n",
            "Name: trestbps, dtype: int64\n",
            " \n",
            "chol \n",
            "\n",
            "204.0    21\n",
            "234.0    20\n",
            "212.0    18\n",
            "197.0    18\n",
            "254.0    16\n",
            "         ..\n",
            "354.0     3\n",
            "160.0     3\n",
            "340.0     2\n",
            "195.0     2\n",
            "141.0     2\n",
            "Name: chol, Length: 152, dtype: int64\n",
            " \n",
            "fbs \n",
            "\n",
            "0.0    846\n",
            "1.0    149\n",
            "Name: fbs, dtype: int64\n",
            " \n",
            "restecg \n",
            "\n",
            "1.0    494\n",
            "0.0    487\n",
            "2.0     14\n",
            "Name: restecg, dtype: int64\n",
            " \n",
            "thalach \n",
            "\n",
            "162.0    31\n",
            "160.0    30\n",
            "163.0    29\n",
            "152.0    27\n",
            "173.0    27\n",
            "         ..\n",
            "177.0     3\n",
            "106.0     3\n",
            "113.0     3\n",
            "121.0     2\n",
            "194.0     2\n",
            "Name: thalach, Length: 91, dtype: int64\n",
            " \n",
            "exang \n",
            "\n",
            "0.0    654\n",
            "1.0    341\n",
            "Name: exang, dtype: int64\n",
            " \n",
            "oldpeak \n",
            "\n",
            "0.0    316\n",
            "1.2     57\n",
            "1.0     51\n",
            "0.6     46\n",
            "1.4     44\n",
            "0.8     43\n",
            "1.6     37\n",
            "1.8     36\n",
            "0.2     34\n",
            "2.0     31\n",
            "0.4     25\n",
            "2.8     22\n",
            "0.1     22\n",
            "2.6     21\n",
            "3.0     17\n",
            "3.6     15\n",
            "1.9     15\n",
            "1.5     15\n",
            "0.5     15\n",
            "2.2     14\n",
            "4.0     12\n",
            "0.3     10\n",
            "2.4     10\n",
            "3.4     10\n",
            "0.9     10\n",
            "3.2      8\n",
            "2.5      7\n",
            "2.3      7\n",
            "4.2      6\n",
            "1.1      5\n",
            "4.4      4\n",
            "3.8      4\n",
            "5.6      4\n",
            "3.1      4\n",
            "1.3      3\n",
            "2.9      3\n",
            "2.1      3\n",
            "6.2      3\n",
            "0.7      3\n",
            "3.5      3\n",
            "Name: oldpeak, dtype: int64\n",
            " \n",
            "slope \n",
            "\n",
            "1.0    470\n",
            "2.0    452\n",
            "0.0     73\n",
            "Name: slope, dtype: int64\n",
            " \n",
            "ca \n",
            "\n",
            "0.0    558\n",
            "1.0    223\n",
            "2.0    130\n",
            "3.0     69\n",
            "4.0     15\n",
            "Name: ca, dtype: int64\n",
            " \n",
            "thal \n",
            "\n",
            "2.0    520\n",
            "3.0    404\n",
            "1.0     64\n",
            "0.0      7\n",
            "Name: thal, dtype: int64\n",
            " \n",
            "target \n",
            "\n",
            "0.0    499\n",
            "1.0    496\n",
            "Name: target, dtype: int64\n",
            " \n",
            "smoking \n",
            "\n",
            "0.0    499\n",
            "1.0    496\n",
            "Name: smoking, dtype: int64\n",
            " \n"
          ]
        }
      ],
      "source": [
        "# statistical summary of each series\n",
        "for column in HD_frame.columns.values.tolist():\n",
        "    print(column, '\\n')\n",
        "    print(HD_frame[column].value_counts())\n",
        "    print(\" \")"
      ]
    },
    {
      "cell_type": "code",
      "execution_count": null,
      "id": "022a7c26",
      "metadata": {
        "id": "022a7c26",
        "outputId": "1d8c0698-a3cf-473b-f91b-85b4d4250311"
      },
      "outputs": [
        {
          "data": {
            "image/png": "[encoded data removed]",
            "text/plain": [
              "<Figure size 1080x720 with 2 Axes>"
            ]
          },
          "metadata": {
            "needs_background": "light"
          },
          "output_type": "display_data"
        }
      ],
      "source": [
        "#show the correlation between the risk factors\n",
        "plt.figure(figsize=(15, 10))\n",
        "sns.heatmap(HD_frame.corr(),linewidth=.01,annot=True,cmap=\"winter\" )\n",
        "plt.title('Risk Factors Correlation')\n",
        "plt.show()\n",
        "# plt.savefig('figure1.0.png')"
      ]
    },
    {
      "cell_type": "code",
      "execution_count": null,
      "id": "00f7d616",
      "metadata": {
        "id": "00f7d616",
        "outputId": "fc222d29-e83f-4033-a393-ce522113ed81"
      },
      "outputs": [
        {
          "name": "stdout",
          "output_type": "stream",
          "text": [
            "number of male patients: 698\n",
            "number of female patients: 297\n"
          ]
        },
        {
          "data": {
            "image/png": "[encoded data removed]",
            "text/plain": [
              "<Figure size 720x432 with 1 Axes>"
            ]
          },
          "metadata": {
            "needs_background": "light"
          },
          "output_type": "display_data"
        }
      ],
      "source": [
        "# sex distribution\n",
        "plt.figure(figsize=(10, 6))\n",
        "sns.countplot(x = HD_frame['sex'],\n",
        "              data = HD_frame, palette = 'hls')\n",
        "plt.title('Gender Distribution')\n",
        "male, female = HD_frame['sex'].value_counts()\n",
        "print('number of male patients:', male)\n",
        "print('number of female patients:', female)"
      ]
    },
    {
      "cell_type": "code",
      "execution_count": null,
      "id": "c0817eab",
      "metadata": {
        "id": "c0817eab",
        "outputId": "122dd781-2bb4-4b32-e129-a15681921c0a"
      },
      "outputs": [
        {
          "data": {
            "text/plain": [
              "1.0    698\n",
              "0.0    297\n",
              "Name: sex, dtype: int64"
            ]
          },
          "execution_count": 19,
          "metadata": {},
          "output_type": "execute_result"
        }
      ],
      "source": [
        "# sex distribution\n",
        "HD_frame['sex'].value_counts()"
      ]
    },
    {
      "cell_type": "code",
      "execution_count": null,
      "id": "c281c807",
      "metadata": {
        "id": "c281c807",
        "outputId": "48561e56-dc0e-44ad-bb14-0815a8a23979"
      },
      "outputs": [
        {
          "name": "stdout",
          "output_type": "stream",
          "text": [
            "number of patients diagonised with heart disease: 499\n",
            "number of patients diagonised without heart disease: 496\n"
          ]
        },
        {
          "data": {
            "image/png": "[encoded data removed]",
            "text/plain": [
              "<Figure size 720x432 with 1 Axes>"
            ]
          },
          "metadata": {
            "needs_background": "light"
          },
          "output_type": "display_data"
        }
      ],
      "source": [
        "# determine patient's  records\n",
        "plt.figure(figsize=(10, 6))\n",
        "HD_frame['target'].value_counts()\n",
        "sns.countplot(x = HD_frame['target'],\n",
        "              data = HD_frame)\n",
        "plt.title('Target Distribution')\n",
        "\n",
        "#\n",
        "HD, NHD = HD_frame['target'].value_counts()\n",
        "print('number of patients diagonised with heart disease:', HD)\n",
        "print('number of patients diagonised without heart disease:', NHD)\n",
        "\n",
        "\n"
      ]
    },
    {
      "cell_type": "code",
      "execution_count": null,
      "id": "310cf853",
      "metadata": {
        "id": "310cf853",
        "outputId": "c332bf70-db52-44ca-f515-852ff01d90cc"
      },
      "outputs": [
        {
          "data": {
            "text/plain": [
              "995"
            ]
          },
          "execution_count": 21,
          "metadata": {},
          "output_type": "execute_result"
        }
      ],
      "source": [
        "# total sample\n",
        "HD_frame['target'].value_counts().sum()"
      ]
    },
    {
      "cell_type": "code",
      "execution_count": null,
      "id": "73914a7a",
      "metadata": {
        "id": "73914a7a",
        "outputId": "8d688179-9992-4e16-ae56-b03a600b3506"
      },
      "outputs": [
        {
          "data": {
            "text/plain": [
              "0.0    499\n",
              "1.0    496\n",
              "Name: target, dtype: int64"
            ]
          },
          "execution_count": 22,
          "metadata": {},
          "output_type": "execute_result"
        }
      ],
      "source": [
        "# get number of positive and negative patients\n",
        "HD_frame['target'].value_counts()"
      ]
    },
    {
      "cell_type": "code",
      "execution_count": null,
      "id": "bab71e30",
      "metadata": {
        "id": "bab71e30",
        "outputId": "d69ce3bd-fbd4-4305-aa52-a6618858c006"
      },
      "outputs": [
        {
          "data": {
            "text/plain": [
              "Text(0.5, 1.0, 'Sex Distribution')"
            ]
          },
          "execution_count": 23,
          "metadata": {},
          "output_type": "execute_result"
        },
        {
          "data": {
            "image/png": "[encoded data removed]",
            "text/plain": [
              "<Figure size 720x504 with 1 Axes>"
            ]
          },
          "metadata": {
            "needs_background": "light"
          },
          "output_type": "display_data"
        }
      ],
      "source": [
        "# Age Distribution\n",
        "plt.figure(figsize=(10,7))\n",
        "sns.countplot(x = HD_frame['age'],\n",
        "              data = HD_frame)\n",
        "plt.title('Sex Distribution')\n"
      ]
    },
    {
      "cell_type": "code",
      "execution_count": null,
      "id": "dcacd470",
      "metadata": {
        "id": "dcacd470",
        "outputId": "b45e3505-d2a9-4209-a3c0-c29c43093271"
      },
      "outputs": [
        {
          "name": "stderr",
          "output_type": "stream",
          "text": [
            "C:\\Users\\user\\anaconda3\\lib\\site-packages\\seaborn\\_decorators.py:36: FutureWarning: Pass the following variable as a keyword arg: x. From version 0.12, the only valid positional argument will be `data`, and passing other arguments without an explicit keyword will result in an error or misinterpretation.\n",
            "  warnings.warn(\n"
          ]
        },
        {
          "data": {
            "text/plain": [
              "<AxesSubplot:xlabel='trestbps', ylabel='count'>"
            ]
          },
          "execution_count": 24,
          "metadata": {},
          "output_type": "execute_result"
        },
        {
          "data": {
            "image/png": "[encoded data removed]",
            "text/plain": [
              "<Figure size 720x504 with 1 Axes>"
            ]
          },
          "metadata": {
            "needs_background": "light"
          },
          "output_type": "display_data"
        }
      ],
      "source": [
        "plt.figure(figsize=(10, 7))\n",
        "sns.countplot(HD_frame['trestbps'])"
      ]
    },
    {
      "cell_type": "code",
      "execution_count": null,
      "id": "11a6bf80",
      "metadata": {
        "id": "11a6bf80",
        "outputId": "8192b127-e20e-4ed6-9e78-7ff02816046e"
      },
      "outputs": [
        {
          "data": {
            "text/plain": [
              "<AxesSubplot:xlabel='cp', ylabel='thalach'>"
            ]
          },
          "execution_count": 25,
          "metadata": {},
          "output_type": "execute_result"
        },
        {
          "data": {
            "image/png": "[encoded data removed]",
            "text/plain": [
              "<Figure size 720x504 with 1 Axes>"
            ]
          },
          "metadata": {
            "needs_background": "light"
          },
          "output_type": "display_data"
        }
      ],
      "source": [
        "plt.figure(figsize=(10, 7))\n",
        "sns.boxplot(x = HD_frame['cp'],\n",
        "            y = HD_frame['thalach'])"
      ]
    },
    {
      "cell_type": "code",
      "execution_count": null,
      "id": "da87822a",
      "metadata": {
        "id": "da87822a",
        "outputId": "21b6390c-2c74-4e66-ad8a-ffa7474de877"
      },
      "outputs": [
        {
          "data": {
            "text/plain": [
              "<Figure size 1080x2160 with 0 Axes>"
            ]
          },
          "execution_count": 26,
          "metadata": {},
          "output_type": "execute_result"
        },
        {
          "data": {
            "image/png": "[encoded data removed]",
            "text/plain": [
              "<Figure size 432x288 with 1 Axes>"
            ]
          },
          "metadata": {
            "needs_background": "light"
          },
          "output_type": "display_data"
        },
        {
          "data": {
            "text/plain": [
              "<Figure size 1080x2160 with 0 Axes>"
            ]
          },
          "metadata": {},
          "output_type": "display_data"
        }
      ],
      "source": [
        "sns.histplot(HD_frame['trestbps'])\n",
        "plt.figure(figsize=(15, 30))"
      ]
    },
    {
      "cell_type": "code",
      "execution_count": null,
      "id": "158e166a",
      "metadata": {
        "id": "158e166a",
        "outputId": "573acfcd-0cc8-46cf-c77c-5aaa54d30894"
      },
      "outputs": [
        {
          "name": "stderr",
          "output_type": "stream",
          "text": [
            "C:\\Users\\user\\anaconda3\\lib\\site-packages\\seaborn\\_decorators.py:36: FutureWarning: Pass the following variable as a keyword arg: x. From version 0.12, the only valid positional argument will be `data`, and passing other arguments without an explicit keyword will result in an error or misinterpretation.\n",
            "  warnings.warn(\n"
          ]
        },
        {
          "data": {
            "text/plain": [
              "<AxesSubplot:xlabel='chol', ylabel='count'>"
            ]
          },
          "execution_count": 27,
          "metadata": {},
          "output_type": "execute_result"
        },
        {
          "data": {
            "image/png": "[encoded data removed]",
            "text/plain": [
              "<Figure size 720x504 with 1 Axes>"
            ]
          },
          "metadata": {
            "needs_background": "light"
          },
          "output_type": "display_data"
        }
      ],
      "source": [
        "plt.figure(figsize=(10, 7))\n",
        "sns.countplot(HD_frame['chol'],\n",
        "              label = 'count')"
      ]
    },
    {
      "cell_type": "code",
      "execution_count": null,
      "id": "b8f9e446",
      "metadata": {
        "id": "b8f9e446",
        "outputId": "5fd21a33-3178-416d-d2cc-cea4ed949271"
      },
      "outputs": [
        {
          "data": {
            "text/plain": [
              "Text(0.5, 1.0, 'Age vs Smoking Distribution')"
            ]
          },
          "execution_count": 28,
          "metadata": {},
          "output_type": "execute_result"
        },
        {
          "data": {
            "image/png": "[encoded data removed]",
            "text/plain": [
              "<Figure size 432x288 with 1 Axes>"
            ]
          },
          "metadata": {
            "needs_background": "light"
          },
          "output_type": "display_data"
        }
      ],
      "source": [
        "#all smokers are liable to die young\n",
        "sns.barplot(y =HD_frame['age'],\n",
        "            x =HD_frame['smoking'])\n",
        "#             color ='red')\n",
        "plt.title('Age vs Smoking Distribution')"
      ]
    },
    {
      "cell_type": "code",
      "execution_count": null,
      "id": "045ec8ad",
      "metadata": {
        "id": "045ec8ad",
        "outputId": "31a4bedf-58d7-4ba0-e533-da5fa0127414"
      },
      "outputs": [
        {
          "data": {
            "text/plain": [
              "<AxesSubplot:xlabel='smoking', ylabel='age'>"
            ]
          },
          "execution_count": 29,
          "metadata": {},
          "output_type": "execute_result"
        },
        {
          "data": {
            "image/png": "[encoded data removed]",
            "text/plain": [
              "<Figure size 720x504 with 1 Axes>"
            ]
          },
          "metadata": {
            "needs_background": "light"
          },
          "output_type": "display_data"
        }
      ],
      "source": [
        "plt.figure(figsize=(10, 7))\n",
        "sns.boxplot(y =HD_frame['age'],\n",
        "x =HD_frame['smoking'], data = HD_frame)\n",
        "# orange, blue = HD_frame['age'].value_counts()/\n",
        "# print('the ages of smokers with heart:', orange)\n",
        "# print('the ages of smokers with heart:', blue)\n"
      ]
    },
    {
      "cell_type": "code",
      "execution_count": null,
      "id": "f4bd9c69",
      "metadata": {
        "id": "f4bd9c69",
        "outputId": "cbc22aae-abcf-41ed-e00b-8884d2960485"
      },
      "outputs": [
        {
          "data": {
            "text/html": [
              "<div>\n",
              "<style scoped>\n",
              "    .dataframe tbody tr th:only-of-type {\n",
              "        vertical-align: middle;\n",
              "    }\n",
              "\n",
              "    .dataframe tbody tr th {\n",
              "        vertical-align: top;\n",
              "    }\n",
              "\n",
              "    .dataframe thead th {\n",
              "        text-align: right;\n",
              "    }\n",
              "</style>\n",
              "<table border=\"1\" class=\"dataframe\">\n",
              "  <thead>\n",
              "    <tr style=\"text-align: right;\">\n",
              "      <th></th>\n",
              "      <th>age</th>\n",
              "      <th>sex</th>\n",
              "      <th>cp</th>\n",
              "      <th>trestbps</th>\n",
              "      <th>chol</th>\n",
              "      <th>fbs</th>\n",
              "      <th>restecg</th>\n",
              "      <th>thalach</th>\n",
              "      <th>exang</th>\n",
              "      <th>oldpeak</th>\n",
              "      <th>slope</th>\n",
              "      <th>ca</th>\n",
              "      <th>thal</th>\n",
              "      <th>target</th>\n",
              "      <th>smoking</th>\n",
              "    </tr>\n",
              "  </thead>\n",
              "  <tbody>\n",
              "    <tr>\n",
              "      <th>0</th>\n",
              "      <td>20.708678</td>\n",
              "      <td>-2.450477</td>\n",
              "      <td>2.132006</td>\n",
              "      <td>144.495407</td>\n",
              "      <td>200.342937</td>\n",
              "      <td>-23.464638</td>\n",
              "      <td>-1.345443</td>\n",
              "      <td>168.753757</td>\n",
              "      <td>-24.973579</td>\n",
              "      <td>46.729095</td>\n",
              "      <td>37.698467</td>\n",
              "      <td>-27.532337</td>\n",
              "      <td>-8.941190</td>\n",
              "      <td>9.008572</td>\n",
              "      <td>-6.888771</td>\n",
              "    </tr>\n",
              "    <tr>\n",
              "      <th>1</th>\n",
              "      <td>49.575977</td>\n",
              "      <td>9.308016</td>\n",
              "      <td>2.972533</td>\n",
              "      <td>156.932024</td>\n",
              "      <td>202.160738</td>\n",
              "      <td>10.110733</td>\n",
              "      <td>4.404977</td>\n",
              "      <td>179.495855</td>\n",
              "      <td>-10.119321</td>\n",
              "      <td>-14.931586</td>\n",
              "      <td>-24.067659</td>\n",
              "      <td>-16.569556</td>\n",
              "      <td>21.014198</td>\n",
              "      <td>-16.023184</td>\n",
              "      <td>34.218268</td>\n",
              "    </tr>\n",
              "    <tr>\n",
              "      <th>2</th>\n",
              "      <td>60.259444</td>\n",
              "      <td>24.358523</td>\n",
              "      <td>9.210075</td>\n",
              "      <td>133.583516</td>\n",
              "      <td>153.198094</td>\n",
              "      <td>8.952123</td>\n",
              "      <td>14.393204</td>\n",
              "      <td>113.348263</td>\n",
              "      <td>18.457649</td>\n",
              "      <td>19.488996</td>\n",
              "      <td>-1.988558</td>\n",
              "      <td>14.255547</td>\n",
              "      <td>15.751521</td>\n",
              "      <td>-4.725761</td>\n",
              "      <td>13.095190</td>\n",
              "    </tr>\n",
              "    <tr>\n",
              "      <th>3</th>\n",
              "      <td>46.997701</td>\n",
              "      <td>-29.755358</td>\n",
              "      <td>-30.065286</td>\n",
              "      <td>144.597025</td>\n",
              "      <td>169.214891</td>\n",
              "      <td>8.638045</td>\n",
              "      <td>-10.959506</td>\n",
              "      <td>170.653754</td>\n",
              "      <td>-2.976140</td>\n",
              "      <td>3.507827</td>\n",
              "      <td>-30.124048</td>\n",
              "      <td>26.943571</td>\n",
              "      <td>-12.333772</td>\n",
              "      <td>-1.324319</td>\n",
              "      <td>-17.091634</td>\n",
              "    </tr>\n",
              "    <tr>\n",
              "      <th>4</th>\n",
              "      <td>70.652527</td>\n",
              "      <td>-18.462860</td>\n",
              "      <td>12.348386</td>\n",
              "      <td>127.151712</td>\n",
              "      <td>282.591980</td>\n",
              "      <td>14.458853</td>\n",
              "      <td>34.109235</td>\n",
              "      <td>90.824147</td>\n",
              "      <td>-33.213637</td>\n",
              "      <td>34.383500</td>\n",
              "      <td>2.017087</td>\n",
              "      <td>-7.658157</td>\n",
              "      <td>-8.702064</td>\n",
              "      <td>-9.228582</td>\n",
              "      <td>31.688162</td>\n",
              "    </tr>\n",
              "    <tr>\n",
              "      <th>...</th>\n",
              "      <td>...</td>\n",
              "      <td>...</td>\n",
              "      <td>...</td>\n",
              "      <td>...</td>\n",
              "      <td>...</td>\n",
              "      <td>...</td>\n",
              "      <td>...</td>\n",
              "      <td>...</td>\n",
              "      <td>...</td>\n",
              "      <td>...</td>\n",
              "      <td>...</td>\n",
              "      <td>...</td>\n",
              "      <td>...</td>\n",
              "      <td>...</td>\n",
              "      <td>...</td>\n",
              "    </tr>\n",
              "    <tr>\n",
              "      <th>1018</th>\n",
              "      <td>54.437587</td>\n",
              "      <td>-17.036744</td>\n",
              "      <td>-3.072474</td>\n",
              "      <td>68.255350</td>\n",
              "      <td>138.460551</td>\n",
              "      <td>26.579920</td>\n",
              "      <td>-6.059454</td>\n",
              "      <td>164.885537</td>\n",
              "      <td>-1.625593</td>\n",
              "      <td>18.068930</td>\n",
              "      <td>36.580774</td>\n",
              "      <td>2.085196</td>\n",
              "      <td>9.574862</td>\n",
              "      <td>13.472656</td>\n",
              "      <td>19.011583</td>\n",
              "    </tr>\n",
              "    <tr>\n",
              "      <th>1019</th>\n",
              "      <td>24.984574</td>\n",
              "      <td>19.165787</td>\n",
              "      <td>12.971217</td>\n",
              "      <td>123.731356</td>\n",
              "      <td>218.214848</td>\n",
              "      <td>-47.875588</td>\n",
              "      <td>25.717341</td>\n",
              "      <td>133.893912</td>\n",
              "      <td>-8.674274</td>\n",
              "      <td>-31.508893</td>\n",
              "      <td>11.033972</td>\n",
              "      <td>-22.632274</td>\n",
              "      <td>31.287854</td>\n",
              "      <td>-13.601703</td>\n",
              "      <td>15.622376</td>\n",
              "    </tr>\n",
              "    <tr>\n",
              "      <th>1021</th>\n",
              "      <td>53.076083</td>\n",
              "      <td>-21.022170</td>\n",
              "      <td>6.324449</td>\n",
              "      <td>132.399207</td>\n",
              "      <td>218.297979</td>\n",
              "      <td>-17.790073</td>\n",
              "      <td>-6.939007</td>\n",
              "      <td>152.952496</td>\n",
              "      <td>16.081253</td>\n",
              "      <td>-5.506863</td>\n",
              "      <td>-10.660055</td>\n",
              "      <td>17.129876</td>\n",
              "      <td>-6.995139</td>\n",
              "      <td>-12.566369</td>\n",
              "      <td>39.762388</td>\n",
              "    </tr>\n",
              "    <tr>\n",
              "      <th>1022</th>\n",
              "      <td>48.406145</td>\n",
              "      <td>34.433150</td>\n",
              "      <td>-12.292348</td>\n",
              "      <td>111.634752</td>\n",
              "      <td>246.875344</td>\n",
              "      <td>11.831335</td>\n",
              "      <td>-13.566671</td>\n",
              "      <td>99.300619</td>\n",
              "      <td>18.286879</td>\n",
              "      <td>-29.906514</td>\n",
              "      <td>21.458114</td>\n",
              "      <td>4.540415</td>\n",
              "      <td>-17.658878</td>\n",
              "      <td>-3.904560</td>\n",
              "      <td>38.071228</td>\n",
              "    </tr>\n",
              "    <tr>\n",
              "      <th>1024</th>\n",
              "      <td>21.809081</td>\n",
              "      <td>-0.086154</td>\n",
              "      <td>-1.761445</td>\n",
              "      <td>117.811157</td>\n",
              "      <td>207.732991</td>\n",
              "      <td>2.579264</td>\n",
              "      <td>29.176604</td>\n",
              "      <td>146.221992</td>\n",
              "      <td>0.437231</td>\n",
              "      <td>26.388931</td>\n",
              "      <td>-23.012129</td>\n",
              "      <td>15.130429</td>\n",
              "      <td>28.494534</td>\n",
              "      <td>2.184817</td>\n",
              "      <td>-15.592068</td>\n",
              "    </tr>\n",
              "  </tbody>\n",
              "</table>\n",
              "<p>995 rows × 15 columns</p>\n",
              "</div>"
            ],
            "text/plain": [
              "            age        sex         cp    trestbps        chol        fbs  \\\n",
              "0     20.708678  -2.450477   2.132006  144.495407  200.342937 -23.464638   \n",
              "1     49.575977   9.308016   2.972533  156.932024  202.160738  10.110733   \n",
              "2     60.259444  24.358523   9.210075  133.583516  153.198094   8.952123   \n",
              "3     46.997701 -29.755358 -30.065286  144.597025  169.214891   8.638045   \n",
              "4     70.652527 -18.462860  12.348386  127.151712  282.591980  14.458853   \n",
              "...         ...        ...        ...         ...         ...        ...   \n",
              "1018  54.437587 -17.036744  -3.072474   68.255350  138.460551  26.579920   \n",
              "1019  24.984574  19.165787  12.971217  123.731356  218.214848 -47.875588   \n",
              "1021  53.076083 -21.022170   6.324449  132.399207  218.297979 -17.790073   \n",
              "1022  48.406145  34.433150 -12.292348  111.634752  246.875344  11.831335   \n",
              "1024  21.809081  -0.086154  -1.761445  117.811157  207.732991   2.579264   \n",
              "\n",
              "        restecg     thalach      exang    oldpeak      slope         ca  \\\n",
              "0     -1.345443  168.753757 -24.973579  46.729095  37.698467 -27.532337   \n",
              "1      4.404977  179.495855 -10.119321 -14.931586 -24.067659 -16.569556   \n",
              "2     14.393204  113.348263  18.457649  19.488996  -1.988558  14.255547   \n",
              "3    -10.959506  170.653754  -2.976140   3.507827 -30.124048  26.943571   \n",
              "4     34.109235   90.824147 -33.213637  34.383500   2.017087  -7.658157   \n",
              "...         ...         ...        ...        ...        ...        ...   \n",
              "1018  -6.059454  164.885537  -1.625593  18.068930  36.580774   2.085196   \n",
              "1019  25.717341  133.893912  -8.674274 -31.508893  11.033972 -22.632274   \n",
              "1021  -6.939007  152.952496  16.081253  -5.506863 -10.660055  17.129876   \n",
              "1022 -13.566671   99.300619  18.286879 -29.906514  21.458114   4.540415   \n",
              "1024  29.176604  146.221992   0.437231  26.388931 -23.012129  15.130429   \n",
              "\n",
              "           thal     target    smoking  \n",
              "0     -8.941190   9.008572  -6.888771  \n",
              "1     21.014198 -16.023184  34.218268  \n",
              "2     15.751521  -4.725761  13.095190  \n",
              "3    -12.333772  -1.324319 -17.091634  \n",
              "4     -8.702064  -9.228582  31.688162  \n",
              "...         ...        ...        ...  \n",
              "1018   9.574862  13.472656  19.011583  \n",
              "1019  31.287854 -13.601703  15.622376  \n",
              "1021  -6.995139 -12.566369  39.762388  \n",
              "1022 -17.658878  -3.904560  38.071228  \n",
              "1024  28.494534   2.184817 -15.592068  \n",
              "\n",
              "[995 rows x 15 columns]"
            ]
          },
          "execution_count": 62,
          "metadata": {},
          "output_type": "execute_result"
        }
      ],
      "source": [
        "# Define a function to generate Gaussian noise\n",
        "def gaussian_noise(HD_frame, std_dev):\n",
        "    noise = np.random.normal(0, std_dev, HD_frame.shape)\n",
        "    return noise\n",
        "\n",
        "# Add Gaussian noise to the dataset\n",
        "noisy_data = HD_frame + gaussian_noise(HD_frame, 20)\n",
        "\n",
        "# Save the noisy dataset\n",
        "np.save('noisy_data.np', noisy_data)\n",
        "noisy_data"
      ]
    },
    {
      "cell_type": "markdown",
      "id": "1e74da33",
      "metadata": {
        "id": "1e74da33"
      },
      "source": [
        "# Model building and Training"
      ]
    },
    {
      "cell_type": "code",
      "execution_count": null,
      "id": "f08becb8",
      "metadata": {
        "id": "f08becb8"
      },
      "outputs": [],
      "source": [
        "# features selection\n",
        "X = HD_frame.drop(['target'], axis =1)\n",
        "y = HD_frame['target']\n"
      ]
    },
    {
      "cell_type": "code",
      "execution_count": null,
      "id": "80b059d5",
      "metadata": {
        "id": "80b059d5"
      },
      "outputs": [],
      "source": [
        "from sklearn.model_selection import train_test_split"
      ]
    },
    {
      "cell_type": "code",
      "execution_count": null,
      "id": "5cd07f34",
      "metadata": {
        "id": "5cd07f34"
      },
      "outputs": [],
      "source": [
        "# importing reqiure classifiers\n",
        "import lightgbm as gbm\n",
        "from sklearn.svm import SVC\n",
        "from sklearn.ensemble import RandomForestClassifier\n",
        "from sklearn.linear_model import LogisticRegression\n",
        "from sklearn.tree import  DecisionTreeClassifier\n",
        "from sklearn.metrics import confusion_matrix, classification_report, accuracy_score"
      ]
    },
    {
      "cell_type": "code",
      "execution_count": null,
      "id": "1436da89",
      "metadata": {
        "id": "1436da89"
      },
      "outputs": [],
      "source": [
        "# !pip3 install lightgbm"
      ]
    },
    {
      "cell_type": "code",
      "execution_count": null,
      "id": "587d8a00",
      "metadata": {
        "id": "587d8a00"
      },
      "outputs": [],
      "source": [
        "# splitting the model (20% for testing sets and 80% training sets)\n",
        "\n",
        "X_train, X_test, y_train, y_test = train_test_split(\n",
        "    X, y, test_size = 0.25, random_state = 40)\n"
      ]
    },
    {
      "cell_type": "markdown",
      "id": "e1135e5f",
      "metadata": {
        "id": "e1135e5f"
      },
      "source": [
        "# Models Trainning"
      ]
    },
    {
      "cell_type": "code",
      "execution_count": null,
      "id": "b2674890",
      "metadata": {
        "id": "b2674890",
        "outputId": "cb4194a5-5882-4a0e-ce39-c019e203847a"
      },
      "outputs": [
        {
          "name": "stderr",
          "output_type": "stream",
          "text": [
            "C:\\Users\\user\\anaconda3\\lib\\site-packages\\sklearn\\linear_model\\_logistic.py:458: ConvergenceWarning: lbfgs failed to converge (status=1):\n",
            "STOP: TOTAL NO. of ITERATIONS REACHED LIMIT.\n",
            "\n",
            "Increase the number of iterations (max_iter) or scale the data as shown in:\n",
            "    https://scikit-learn.org/stable/modules/preprocessing.html\n",
            "Please also refer to the documentation for alternative solver options:\n",
            "    https://scikit-learn.org/stable/modules/linear_model.html#logistic-regression\n",
            "  n_iter_i = _check_optimize_result(\n"
          ]
        },
        {
          "data": {
            "text/html": [
              "<style>#sk-container-id-1 {color: black;background-color: white;}#sk-container-id-1 pre{padding: 0;}#sk-container-id-1 div.sk-toggleable {background-color: white;}#sk-container-id-1 label.sk-toggleable__label {cursor: pointer;display: block;width: 100%;margin-bottom: 0;padding: 0.3em;box-sizing: border-box;text-align: center;}#sk-container-id-1 label.sk-toggleable__label-arrow:before {content: \"▸\";float: left;margin-right: 0.25em;color: #696969;}#sk-container-id-1 label.sk-toggleable__label-arrow:hover:before {color: black;}#sk-container-id-1 div.sk-estimator:hover label.sk-toggleable__label-arrow:before {color: black;}#sk-container-id-1 div.sk-toggleable__content {max-height: 0;max-width: 0;overflow: hidden;text-align: left;background-color: #f0f8ff;}#sk-container-id-1 div.sk-toggleable__content pre {margin: 0.2em;color: black;border-radius: 0.25em;background-color: #f0f8ff;}#sk-container-id-1 input.sk-toggleable__control:checked~div.sk-toggleable__content {max-height: 200px;max-width: 100%;overflow: auto;}#sk-container-id-1 input.sk-toggleable__control:checked~label.sk-toggleable__label-arrow:before {content: \"▾\";}#sk-container-id-1 div.sk-estimator input.sk-toggleable__control:checked~label.sk-toggleable__label {background-color: #d4ebff;}#sk-container-id-1 div.sk-label input.sk-toggleable__control:checked~label.sk-toggleable__label {background-color: #d4ebff;}#sk-container-id-1 input.sk-hidden--visually {border: 0;clip: rect(1px 1px 1px 1px);clip: rect(1px, 1px, 1px, 1px);height: 1px;margin: -1px;overflow: hidden;padding: 0;position: absolute;width: 1px;}#sk-container-id-1 div.sk-estimator {font-family: monospace;background-color: #f0f8ff;border: 1px dotted black;border-radius: 0.25em;box-sizing: border-box;margin-bottom: 0.5em;}#sk-container-id-1 div.sk-estimator:hover {background-color: #d4ebff;}#sk-container-id-1 div.sk-parallel-item::after {content: \"\";width: 100%;border-bottom: 1px solid gray;flex-grow: 1;}#sk-container-id-1 div.sk-label:hover label.sk-toggleable__label {background-color: #d4ebff;}#sk-container-id-1 div.sk-serial::before {content: \"\";position: absolute;border-left: 1px solid gray;box-sizing: border-box;top: 0;bottom: 0;left: 50%;z-index: 0;}#sk-container-id-1 div.sk-serial {display: flex;flex-direction: column;align-items: center;background-color: white;padding-right: 0.2em;padding-left: 0.2em;position: relative;}#sk-container-id-1 div.sk-item {position: relative;z-index: 1;}#sk-container-id-1 div.sk-parallel {display: flex;align-items: stretch;justify-content: center;background-color: white;position: relative;}#sk-container-id-1 div.sk-item::before, #sk-container-id-1 div.sk-parallel-item::before {content: \"\";position: absolute;border-left: 1px solid gray;box-sizing: border-box;top: 0;bottom: 0;left: 50%;z-index: -1;}#sk-container-id-1 div.sk-parallel-item {display: flex;flex-direction: column;z-index: 1;position: relative;background-color: white;}#sk-container-id-1 div.sk-parallel-item:first-child::after {align-self: flex-end;width: 50%;}#sk-container-id-1 div.sk-parallel-item:last-child::after {align-self: flex-start;width: 50%;}#sk-container-id-1 div.sk-parallel-item:only-child::after {width: 0;}#sk-container-id-1 div.sk-dashed-wrapped {border: 1px dashed gray;margin: 0 0.4em 0.5em 0.4em;box-sizing: border-box;padding-bottom: 0.4em;background-color: white;}#sk-container-id-1 div.sk-label label {font-family: monospace;font-weight: bold;display: inline-block;line-height: 1.2em;}#sk-container-id-1 div.sk-label-container {text-align: center;}#sk-container-id-1 div.sk-container {/* jupyter's `normalize.less` sets `[hidden] { display: none; }` but bootstrap.min.css set `[hidden] { display: none !important; }` so we also need the `!important` here to be able to override the default hidden behavior on the sphinx rendered scikit-learn.org. See: https://github.com/scikit-learn/scikit-learn/issues/21755 */display: inline-block !important;position: relative;}#sk-container-id-1 div.sk-text-repr-fallback {display: none;}</style><div id=\"sk-container-id-1\" class=\"sk-top-container\"><div class=\"sk-text-repr-fallback\"><pre>LogisticRegression()</pre><b>In a Jupyter environment, please rerun this cell to show the HTML representation or trust the notebook. <br />On GitHub, the HTML representation is unable to render, please try loading this page with nbviewer.org.</b></div><div class=\"sk-container\" hidden><div class=\"sk-item\"><div class=\"sk-estimator sk-toggleable\"><input class=\"sk-toggleable__control sk-hidden--visually\" id=\"sk-estimator-id-1\" type=\"checkbox\" checked><label for=\"sk-estimator-id-1\" class=\"sk-toggleable__label sk-toggleable__label-arrow\">LogisticRegression</label><div class=\"sk-toggleable__content\"><pre>LogisticRegression()</pre></div></div></div></div></div>"
            ],
            "text/plain": [
              "LogisticRegression()"
            ]
          },
          "execution_count": 36,
          "metadata": {},
          "output_type": "execute_result"
        }
      ],
      "source": [
        "# fitting and trainnning the decision tree classifier\n",
        "dt = DecisionTreeClassifier()\n",
        "dt.fit(X_train, y_train)\n",
        "\n",
        "# fitting and trainning the support vector machine classifier\n",
        "svm = SVC()\n",
        "svm.fit(X_train, y_train)\n",
        "\n",
        "# for Random forest classifier\n",
        "rf = RandomForestClassifier()\n",
        "\n",
        "rf.fit(X_train, y_train)\n",
        "\n",
        "# fitting and tranning  the logistic regression classifier\n",
        "lr =  LogisticRegression()\n",
        "lr.fit(X_train, y_train)\n",
        "\n"
      ]
    },
    {
      "cell_type": "code",
      "execution_count": null,
      "id": "53065743",
      "metadata": {
        "id": "53065743"
      },
      "outputs": [],
      "source": []
    },
    {
      "cell_type": "code",
      "execution_count": null,
      "id": "ad56f0fa",
      "metadata": {
        "id": "ad56f0fa"
      },
      "outputs": [],
      "source": [
        "# noisy_data"
      ]
    },
    {
      "cell_type": "markdown",
      "id": "80504840",
      "metadata": {
        "id": "80504840"
      },
      "source": [
        "# Models Predictions!"
      ]
    },
    {
      "cell_type": "code",
      "execution_count": null,
      "id": "b9ac3b52",
      "metadata": {
        "id": "b9ac3b52",
        "outputId": "7e32a283-8a41-4afb-8107-1cd42bfe2ab0"
      },
      "outputs": [
        {
          "data": {
            "text/plain": [
              "array([1., 1., 0., 1., 0., 0., 1., 1., 1., 0., 0., 0., 0., 1., 0., 1., 1.,\n",
              "       0., 1., 1., 0., 1., 1., 1., 0., 1., 0., 0., 0., 0., 1., 1., 1., 1.,\n",
              "       1., 0., 1., 1., 1., 1., 1., 0., 0., 0., 0., 0., 1., 1., 1., 1., 0.,\n",
              "       1., 1., 1., 0., 1., 1., 0., 1., 1., 0., 1., 0., 0., 1., 0., 1., 0.,\n",
              "       1., 0., 1., 1., 1., 0., 1., 1., 1., 0., 0., 1., 1., 1., 1., 0., 0.,\n",
              "       1., 0., 1., 0., 1., 0., 1., 1., 0., 0., 1., 0., 1., 0., 0., 1., 0.,\n",
              "       1., 0., 0., 0., 1., 0., 0., 1., 0., 0., 1., 0., 1., 0., 0., 1., 1.,\n",
              "       0., 0., 1., 0., 1., 0., 1., 0., 1., 0., 0., 1., 0., 0., 1., 0., 1.,\n",
              "       0., 1., 1., 1., 1., 0., 0., 0., 0., 1., 1., 1., 0., 0., 1., 0., 0.,\n",
              "       0., 0., 0., 1., 1., 0., 1., 0., 1., 1., 1., 1., 1., 1., 1., 0., 0.,\n",
              "       0., 0., 0., 1., 1., 1., 0., 0., 0., 0., 1., 1., 0., 1., 1., 0., 1.,\n",
              "       1., 1., 0., 1., 0., 0., 1., 0., 0., 1., 0., 0., 1., 0., 0., 0., 0.,\n",
              "       1., 0., 1., 0., 1., 0., 1., 1., 0., 0., 1., 0., 1., 0., 1., 1., 1.,\n",
              "       1., 1., 0., 1., 0., 1., 1., 1., 1., 0., 1., 0., 0., 1., 0., 1., 0.,\n",
              "       0., 1., 0., 1., 1., 1., 0., 1., 1., 0., 0.])"
            ]
          },
          "execution_count": 38,
          "metadata": {},
          "output_type": "execute_result"
        }
      ],
      "source": [
        "# for logistic regression\n",
        "model1 = lr.predict(X_test)\n",
        "model1"
      ]
    },
    {
      "cell_type": "code",
      "execution_count": null,
      "id": "f2b221c8",
      "metadata": {
        "id": "f2b221c8",
        "outputId": "ae3cdabf-a8e9-4e07-e11a-379e9c06c20a"
      },
      "outputs": [
        {
          "data": {
            "text/plain": [
              "array([1., 1., 0., 1., 0., 0., 1., 1., 1., 0., 0., 0., 0., 1., 0., 1., 1.,\n",
              "       0., 1., 1., 0., 1., 1., 1., 0., 1., 0., 0., 0., 0., 1., 1., 1., 1.,\n",
              "       1., 0., 1., 1., 1., 1., 1., 0., 0., 0., 0., 0., 1., 1., 1., 1., 0.,\n",
              "       1., 1., 1., 0., 1., 1., 0., 1., 1., 0., 1., 0., 0., 1., 0., 1., 0.,\n",
              "       1., 0., 1., 1., 1., 0., 1., 1., 1., 0., 0., 1., 1., 1., 1., 0., 0.,\n",
              "       1., 0., 1., 0., 1., 0., 1., 1., 0., 0., 1., 0., 1., 0., 0., 1., 0.,\n",
              "       1., 0., 0., 0., 1., 0., 0., 1., 0., 0., 1., 0., 1., 0., 0., 1., 1.,\n",
              "       0., 0., 1., 0., 1., 0., 1., 0., 1., 0., 0., 1., 0., 0., 1., 0., 1.,\n",
              "       0., 1., 1., 1., 1., 0., 0., 0., 0., 1., 1., 1., 0., 0., 1., 0., 0.,\n",
              "       0., 0., 0., 1., 1., 0., 1., 0., 1., 1., 1., 1., 1., 1., 1., 0., 0.,\n",
              "       0., 0., 0., 1., 1., 1., 0., 0., 0., 0., 1., 1., 0., 1., 1., 0., 1.,\n",
              "       1., 1., 0., 1., 0., 0., 1., 0., 0., 1., 0., 0., 1., 0., 0., 0., 0.,\n",
              "       1., 0., 1., 0., 1., 0., 1., 1., 0., 0., 1., 0., 1., 0., 1., 1., 1.,\n",
              "       1., 1., 0., 1., 0., 1., 1., 1., 1., 0., 1., 0., 0., 1., 0., 1., 0.,\n",
              "       0., 1., 0., 1., 1., 1., 0., 1., 1., 0., 0.])"
            ]
          },
          "execution_count": 39,
          "metadata": {},
          "output_type": "execute_result"
        }
      ],
      "source": [
        "# for Random Forest Classifier\n",
        "model2 = rf.predict(X_test)\n",
        "model2"
      ]
    },
    {
      "cell_type": "code",
      "execution_count": null,
      "id": "43a26fe8",
      "metadata": {
        "id": "43a26fe8",
        "outputId": "818bb66e-a318-4734-fdad-b0fe261323d6"
      },
      "outputs": [
        {
          "data": {
            "text/plain": [
              "array([1., 1., 0., 1., 0., 0., 1., 1., 1., 0., 0., 0., 0., 1., 0., 1., 1.,\n",
              "       0., 1., 1., 0., 1., 1., 1., 0., 1., 0., 0., 0., 0., 1., 1., 1., 1.,\n",
              "       1., 0., 1., 1., 1., 1., 1., 0., 0., 0., 0., 0., 1., 1., 1., 1., 0.,\n",
              "       1., 1., 1., 0., 1., 1., 0., 1., 1., 0., 1., 0., 0., 1., 0., 1., 0.,\n",
              "       1., 0., 1., 1., 1., 0., 1., 1., 1., 0., 0., 1., 1., 1., 1., 0., 0.,\n",
              "       1., 0., 1., 0., 1., 0., 1., 1., 0., 0., 1., 0., 1., 0., 0., 1., 0.,\n",
              "       1., 0., 0., 0., 1., 0., 0., 1., 0., 0., 1., 0., 1., 0., 0., 1., 1.,\n",
              "       0., 0., 1., 0., 1., 0., 1., 0., 1., 0., 0., 1., 0., 0., 1., 0., 1.,\n",
              "       0., 1., 1., 1., 1., 0., 0., 0., 0., 1., 1., 1., 0., 0., 1., 0., 0.,\n",
              "       0., 0., 0., 1., 1., 0., 1., 0., 1., 1., 1., 1., 1., 1., 1., 0., 0.,\n",
              "       0., 0., 0., 1., 1., 1., 0., 0., 0., 0., 1., 1., 0., 1., 1., 0., 1.,\n",
              "       1., 1., 0., 1., 0., 0., 1., 0., 0., 1., 0., 0., 1., 0., 0., 0., 0.,\n",
              "       1., 0., 1., 0., 1., 0., 1., 1., 0., 0., 1., 0., 1., 0., 1., 1., 1.,\n",
              "       1., 1., 0., 1., 0., 1., 1., 1., 1., 0., 1., 0., 0., 1., 0., 1., 0.,\n",
              "       0., 1., 0., 1., 1., 1., 0., 1., 1., 0., 0.])"
            ]
          },
          "execution_count": 40,
          "metadata": {},
          "output_type": "execute_result"
        }
      ],
      "source": [
        "# for Decision Tree\n",
        "model3 = dt.predict(X_test)\n",
        "model3"
      ]
    },
    {
      "cell_type": "code",
      "execution_count": null,
      "id": "f52caa1b",
      "metadata": {
        "id": "f52caa1b",
        "outputId": "d806c51b-f381-4c28-e97f-b66a83b50762"
      },
      "outputs": [
        {
          "data": {
            "text/plain": [
              "array([1., 1., 0., 1., 0., 0., 1., 1., 1., 0., 0., 0., 0., 1., 0., 1., 1.,\n",
              "       0., 1., 1., 0., 1., 1., 1., 0., 1., 0., 0., 0., 0., 1., 1., 1., 1.,\n",
              "       1., 0., 1., 1., 1., 1., 1., 0., 0., 0., 0., 0., 1., 1., 1., 1., 0.,\n",
              "       1., 1., 1., 0., 1., 1., 0., 1., 1., 0., 1., 0., 0., 1., 0., 1., 0.,\n",
              "       1., 0., 1., 1., 1., 0., 1., 1., 1., 0., 0., 1., 1., 1., 1., 0., 0.,\n",
              "       1., 0., 1., 0., 1., 0., 1., 1., 0., 0., 1., 0., 1., 0., 0., 1., 0.,\n",
              "       1., 0., 0., 0., 1., 0., 0., 1., 0., 0., 1., 0., 1., 0., 0., 1., 1.,\n",
              "       0., 0., 1., 0., 1., 0., 1., 0., 1., 0., 0., 1., 0., 0., 1., 0., 1.,\n",
              "       0., 1., 1., 1., 1., 0., 0., 0., 0., 1., 1., 1., 0., 0., 1., 0., 0.,\n",
              "       0., 0., 0., 1., 1., 0., 1., 0., 1., 1., 1., 1., 1., 1., 1., 0., 0.,\n",
              "       0., 0., 0., 1., 1., 1., 0., 0., 0., 0., 1., 1., 0., 1., 1., 0., 1.,\n",
              "       1., 1., 0., 1., 0., 0., 1., 0., 0., 1., 0., 0., 1., 0., 0., 0., 0.,\n",
              "       1., 0., 1., 0., 1., 0., 1., 1., 0., 0., 1., 0., 1., 0., 1., 1., 1.,\n",
              "       1., 1., 0., 1., 0., 1., 1., 1., 1., 0., 1., 0., 0., 1., 0., 1., 0.,\n",
              "       0., 1., 0., 1., 1., 1., 0., 1., 1., 0., 0.])"
            ]
          },
          "execution_count": 41,
          "metadata": {},
          "output_type": "execute_result"
        }
      ],
      "source": [
        "# for logistic regression\n",
        "model3 = lr.predict(X_test)\n",
        "model3"
      ]
    },
    {
      "cell_type": "code",
      "execution_count": null,
      "id": "5b36ed0c",
      "metadata": {
        "id": "5b36ed0c",
        "outputId": "eb3ff287-13c2-4d4a-be0a-3f9fa877723f"
      },
      "outputs": [
        {
          "data": {
            "text/plain": [
              "array([1., 1., 1., 1., 1., 0., 1., 0., 0., 0., 0., 1., 0., 1., 0., 0., 1.,\n",
              "       0., 0., 1., 0., 1., 1., 1., 0., 1., 1., 0., 1., 1., 1., 1., 1., 0.,\n",
              "       1., 0., 1., 1., 0., 0., 0., 0., 0., 0., 1., 0., 1., 0., 1., 1., 0.,\n",
              "       1., 1., 1., 1., 1., 1., 0., 0., 1., 0., 1., 1., 1., 1., 1., 0., 0.,\n",
              "       1., 0., 1., 1., 1., 0., 1., 1., 0., 1., 1., 1., 1., 1., 1., 0., 1.,\n",
              "       1., 0., 1., 0., 1., 1., 1., 1., 0., 0., 1., 0., 1., 1., 1., 1., 0.,\n",
              "       1., 1., 1., 1., 1., 1., 0., 1., 0., 1., 1., 1., 1., 1., 0., 0., 1.,\n",
              "       0., 0., 1., 0., 1., 0., 1., 1., 1., 1., 1., 1., 1., 0., 1., 1., 1.,\n",
              "       0., 1., 1., 1., 1., 1., 0., 0., 1., 1., 1., 1., 1., 0., 1., 0., 1.,\n",
              "       0., 0., 0., 1., 1., 1., 1., 0., 1., 1., 1., 1., 1., 1., 1., 0., 0.,\n",
              "       1., 0., 0., 1., 1., 1., 0., 0., 1., 0., 1., 1., 0., 1., 0., 1., 0.,\n",
              "       0., 1., 0., 0., 0., 0., 1., 0., 1., 0., 0., 0., 0., 1., 0., 1., 0.,\n",
              "       1., 1., 0., 0., 1., 0., 0., 1., 0., 0., 0., 1., 1., 1., 1., 0., 0.,\n",
              "       1., 0., 0., 1., 0., 1., 0., 0., 1., 1., 1., 0., 0., 0., 1., 0., 0.,\n",
              "       0., 1., 0., 1., 1., 1., 0., 1., 1., 0., 0.])"
            ]
          },
          "execution_count": 42,
          "metadata": {},
          "output_type": "execute_result"
        }
      ],
      "source": [
        "# for Support Vector Machine classifier\n",
        "model4 = svm.predict(X_test)\n",
        "model4"
      ]
    },
    {
      "cell_type": "code",
      "execution_count": null,
      "id": "76a1399b",
      "metadata": {
        "id": "76a1399b",
        "outputId": "04390b8f-62b7-4eb6-ced1-f4ae86e039b1"
      },
      "outputs": [
        {
          "data": {
            "text/plain": [
              "(746, 14)"
            ]
          },
          "execution_count": 43,
          "metadata": {},
          "output_type": "execute_result"
        }
      ],
      "source": [
        "X_train.shape"
      ]
    },
    {
      "cell_type": "code",
      "execution_count": null,
      "id": "baf4c69b",
      "metadata": {
        "id": "baf4c69b",
        "outputId": "b87ab4b2-2464-4f37-db43-13069115beb8"
      },
      "outputs": [
        {
          "data": {
            "text/plain": [
              "(746,)"
            ]
          },
          "execution_count": 44,
          "metadata": {},
          "output_type": "execute_result"
        }
      ],
      "source": [
        "y_train.shape"
      ]
    },
    {
      "cell_type": "code",
      "execution_count": null,
      "id": "2e907f1b",
      "metadata": {
        "id": "2e907f1b",
        "outputId": "859914e0-91c8-4a42-cb17-3a0cf8d250ff"
      },
      "outputs": [
        {
          "data": {
            "text/plain": [
              "(249, 14)"
            ]
          },
          "execution_count": 45,
          "metadata": {},
          "output_type": "execute_result"
        }
      ],
      "source": [
        "X_test.shape"
      ]
    },
    {
      "cell_type": "code",
      "execution_count": null,
      "id": "fdbfd70f",
      "metadata": {
        "id": "fdbfd70f",
        "outputId": "bd915c53-5528-49e0-935e-0f03927e917d"
      },
      "outputs": [
        {
          "data": {
            "text/plain": [
              "(249,)"
            ]
          },
          "execution_count": 46,
          "metadata": {},
          "output_type": "execute_result"
        }
      ],
      "source": [
        "y_test.shape"
      ]
    },
    {
      "cell_type": "markdown",
      "id": "11920401",
      "metadata": {
        "id": "11920401"
      },
      "source": [
        "# L-R Model Evalution"
      ]
    },
    {
      "cell_type": "code",
      "execution_count": null,
      "id": "bab45d44",
      "metadata": {
        "id": "bab45d44",
        "outputId": "302d755d-de07-41c6-8dec-c963c4591501"
      },
      "outputs": [
        {
          "data": {
            "text/plain": [
              "array([[119,   0],\n",
              "       [  0, 130]], dtype=int64)"
            ]
          },
          "execution_count": 47,
          "metadata": {},
          "output_type": "execute_result"
        }
      ],
      "source": [
        "# for Logistic Regression model\n",
        "cm1 = confusion_matrix(model1, y_test)\n",
        "cm1"
      ]
    },
    {
      "cell_type": "code",
      "execution_count": null,
      "id": "5dfe9428",
      "metadata": {
        "id": "5dfe9428",
        "outputId": "cba66031-2cd5-40c7-d4f1-a1e07955efd3"
      },
      "outputs": [
        {
          "name": "stdout",
          "output_type": "stream",
          "text": [
            "classification Report:               precision    recall  f1-score   support\n",
            "\n",
            "         0.0       1.00      1.00      1.00       119\n",
            "         1.0       1.00      1.00      1.00       130\n",
            "\n",
            "    accuracy                           1.00       249\n",
            "   macro avg       1.00      1.00      1.00       249\n",
            "weighted avg       1.00      1.00      1.00       249\n",
            "\n"
          ]
        }
      ],
      "source": [
        "# classification report\n",
        "print('classification Report:', classification_report(y_test, model1))"
      ]
    },
    {
      "cell_type": "markdown",
      "id": "1319d21f",
      "metadata": {
        "id": "1319d21f"
      },
      "source": [
        "# L-R Model Performance"
      ]
    },
    {
      "cell_type": "code",
      "execution_count": null,
      "id": "544e009b",
      "metadata": {
        "id": "544e009b",
        "outputId": "d8f66253-78a5-49af-c288-a876cb3f351b"
      },
      "outputs": [
        {
          "name": "stdout",
          "output_type": "stream",
          "text": [
            "Testing Accuracy for Logistic Regression Machine: 1.0\n",
            "Testing Sensitivity/Recall for L-R Machine: 1.0\n",
            "Testing Specificity for L-R Machine: 1.0\n",
            "Testing Precision for L-R Machine: 1.0\n"
          ]
        },
        {
          "data": {
            "image/png": "[encoded data removed]",
            "text/plain": [
              "<Figure size 576x360 with 2 Axes>"
            ]
          },
          "metadata": {
            "needs_background": "light"
          },
          "output_type": "display_data"
        }
      ],
      "source": [
        "plt.figure(figsize=(8, 5))\n",
        "sns.heatmap (cm1, linewidth=.01,\n",
        "             annot=True,cmap=\"winter\")\n",
        "plt.title('L-R Confusion matrix')\n",
        "plt.ylabel('Actual Class')\n",
        "plt.xlabel('predicted Class')\n",
        "\n",
        "# show all the evaluation metrics\n",
        "TP=cm1[0][0]\n",
        "TN=cm1[1][1]\n",
        "FN=cm1[1][0]\n",
        "FP=cm1[0][1]\n",
        "# print(round(accuracy_score(svm_pred,y_test)*100,2))\n",
        "print('Testing Accuracy for Logistic Regression Machine:',\n",
        "      (TP+TN)/(TP+TN+FN+FP))\n",
        "print('Testing Sensitivity/Recall for L-R Machine:',\n",
        "      (TP/(TP+FN)))\n",
        "print('Testing Specificity for L-R Machine:',\n",
        "      (TN/(TN+FP)))\n",
        "print('Testing Precision for L-R Machine:',\n",
        "      (TP/(TP+FP)))"
      ]
    },
    {
      "cell_type": "markdown",
      "id": "b4a0e41a",
      "metadata": {
        "id": "b4a0e41a"
      },
      "source": [
        "# R-F Model Evaluation"
      ]
    },
    {
      "cell_type": "code",
      "execution_count": null,
      "id": "a3ea8a82",
      "metadata": {
        "id": "a3ea8a82",
        "outputId": "e0d74ab4-c02d-444c-ff44-b434d232ae0f"
      },
      "outputs": [
        {
          "data": {
            "text/plain": [
              "array([[119,   0],\n",
              "       [  0, 130]], dtype=int64)"
            ]
          },
          "execution_count": 50,
          "metadata": {},
          "output_type": "execute_result"
        }
      ],
      "source": [
        "# for random forest classifier\n",
        "cm2 = confusion_matrix(y_test, model2)\n",
        "cm2"
      ]
    },
    {
      "cell_type": "code",
      "execution_count": null,
      "id": "40747902",
      "metadata": {
        "id": "40747902",
        "outputId": "e809870b-1b51-4cac-c2ff-d20715acdc3f"
      },
      "outputs": [
        {
          "name": "stdout",
          "output_type": "stream",
          "text": [
            "classification report:               precision    recall  f1-score   support\n",
            "\n",
            "         0.0       1.00      1.00      1.00       119\n",
            "         1.0       1.00      1.00      1.00       130\n",
            "\n",
            "    accuracy                           1.00       249\n",
            "   macro avg       1.00      1.00      1.00       249\n",
            "weighted avg       1.00      1.00      1.00       249\n",
            "\n"
          ]
        }
      ],
      "source": [
        "# classification report\n",
        "print('classification report:', classification_report(y_test, model2))"
      ]
    },
    {
      "cell_type": "markdown",
      "id": "5ef8fd54",
      "metadata": {
        "id": "5ef8fd54"
      },
      "source": [
        "# R-F Model Performance"
      ]
    },
    {
      "cell_type": "code",
      "execution_count": null,
      "id": "e4e06e1b",
      "metadata": {
        "id": "e4e06e1b",
        "outputId": "13b74b71-75d2-4c0b-fdf9-6500de9aef72"
      },
      "outputs": [
        {
          "name": "stdout",
          "output_type": "stream",
          "text": [
            "Testing Accuracy for Logistic Regression Machine: 1.0\n",
            "Testing Sensitivity/Recall for R-F Machine: 1.0\n",
            "Testing Specificity for R-F Machine: nan\n",
            "Testing Precision for R-F Machine: 1.0\n"
          ]
        },
        {
          "name": "stderr",
          "output_type": "stream",
          "text": [
            "C:\\Users\\user\\AppData\\Local\\Temp/ipykernel_13208/1318644869.py:18: RuntimeWarning: invalid value encountered in longlong_scalars\n",
            "  (TN/(TN+FP)))\n"
          ]
        },
        {
          "data": {
            "image/png": "[encoded data removed]",
            "text/plain": [
              "<Figure size 576x360 with 2 Axes>"
            ]
          },
          "metadata": {
            "needs_background": "light"
          },
          "output_type": "display_data"
        }
      ],
      "source": [
        "plt.figure(figsize=(8, 5))\n",
        "sns.heatmap (cm2, linewidth=.01,\n",
        "             annot=True,cmap=\"winter\")\n",
        "plt.title('R-F Confusion matrix')\n",
        "plt.ylabel('Actual Class')\n",
        "plt.xlabel('predicted Class')\n",
        "\n",
        "# show all the evaluation metrics\n",
        "TP=cm2[0][0]\n",
        "TN=cm2[1][0]\n",
        "FP=cm2[0][1]\n",
        "# print(round(accuracy_score(svm_pred,y_test)*100,2))\n",
        "print('Testing Accuracy for Logistic Regression Machine:',\n",
        "      (TP+TN)/(TP+TN+FN+FP))\n",
        "print('Testing Sensitivity/Recall for R-F Machine:',\n",
        "      (TP/(TP+FN)))\n",
        "print('Testing Specificity for R-F Machine:',\n",
        "      (TN/(TN+FP)))\n",
        "print('Testing Precision for R-F Machine:',\n",
        "      (TP/(TP+FP)))\n",
        "\n"
      ]
    },
    {
      "cell_type": "markdown",
      "id": "384c7bea",
      "metadata": {
        "id": "384c7bea"
      },
      "source": [
        "# Decision Tree Model Evaluation"
      ]
    },
    {
      "cell_type": "code",
      "execution_count": null,
      "id": "afc183c2",
      "metadata": {
        "id": "afc183c2",
        "outputId": "97c5ab01-3e36-4b7b-d7b7-1305e9e22e1a"
      },
      "outputs": [
        {
          "data": {
            "text/plain": [
              "array([[119,   0],\n",
              "       [  0, 130]], dtype=int64)"
            ]
          },
          "execution_count": 53,
          "metadata": {},
          "output_type": "execute_result"
        }
      ],
      "source": [
        "# confusion table\n",
        "cm3 = confusion_matrix(y_test, model3)\n",
        "cm3"
      ]
    },
    {
      "cell_type": "code",
      "execution_count": null,
      "id": "99ac450a",
      "metadata": {
        "id": "99ac450a",
        "outputId": "18dc224a-4070-4054-ebbe-b113c41aa8e0"
      },
      "outputs": [
        {
          "name": "stdout",
          "output_type": "stream",
          "text": [
            "classification report:               precision    recall  f1-score   support\n",
            "\n",
            "         0.0       1.00      1.00      1.00       119\n",
            "         1.0       1.00      1.00      1.00       130\n",
            "\n",
            "    accuracy                           1.00       249\n",
            "   macro avg       1.00      1.00      1.00       249\n",
            "weighted avg       1.00      1.00      1.00       249\n",
            "\n"
          ]
        }
      ],
      "source": [
        "#  classification report\n",
        "print('classification report:', classification_report(y_test, model3))"
      ]
    },
    {
      "cell_type": "code",
      "execution_count": null,
      "id": "f4b8304d",
      "metadata": {
        "id": "f4b8304d",
        "outputId": "d36f3f29-8875-40e4-e7cf-e8df2892c3a9"
      },
      "outputs": [
        {
          "name": "stdout",
          "output_type": "stream",
          "text": [
            "Testing Accuracy for D-T Machine: 1.0\n",
            "Testing sensitivity/recall for D-T Machine: 1.0\n",
            "Testing Specificity for D-T Machine: 1.0\n",
            "Testing Precision for D-T Machine: 1.0\n"
          ]
        },
        {
          "data": {
            "image/png": "[encoded data removed]",
            "text/plain": [
              "<Figure size 576x360 with 2 Axes>"
            ]
          },
          "metadata": {
            "needs_background": "light"
          },
          "output_type": "display_data"
        }
      ],
      "source": [
        "# performance evaluation\n",
        "plt.figure(figsize=(8, 5))\n",
        "sns.heatmap (cm3, linewidth=.01,\n",
        "             annot=True,cmap=\"winter\")\n",
        "plt.title('D-T Confusion matrix')\n",
        "plt.ylabel('Actual Class')\n",
        "plt.xlabel('predicted Class')\n",
        "# rf_pred= confusion_matrix(y_test, clr)\n",
        "TP= cm3[0][0]\n",
        "TN= cm3[1][1]\n",
        "FN= cm3[1][0]\n",
        "FP= cm3[0][1]\n",
        "# print(round(confusion_matrix(rf_pred, y_test)*100,2))\n",
        "print('Testing Accuracy for D-T Machine:',\n",
        "      (TP+TN)/(TP+TN+FN+FP))\n",
        "print('Testing sensitivity/recall for D-T Machine:',\n",
        "      (TP/(TP+FN)))\n",
        "print('Testing Specificity for D-T Machine:',\n",
        "      (TN/(TN+FP)))\n",
        "print('Testing Precision for D-T Machine:',\n",
        "      (TP/(TP+FP)))\n"
      ]
    },
    {
      "cell_type": "markdown",
      "id": "56bf6caf",
      "metadata": {
        "id": "56bf6caf"
      },
      "source": [
        "# SVM Model Evaluation"
      ]
    },
    {
      "cell_type": "code",
      "execution_count": null,
      "id": "846a55d8",
      "metadata": {
        "id": "846a55d8",
        "outputId": "632ceaac-0346-4a45-c0f2-2aa67714dfd3"
      },
      "outputs": [
        {
          "data": {
            "text/plain": [
              "array([[ 74,  45],\n",
              "       [ 29, 101]], dtype=int64)"
            ]
          },
          "execution_count": 56,
          "metadata": {},
          "output_type": "execute_result"
        }
      ],
      "source": [
        "# confusion matrix\n",
        "cm4 = confusion_matrix(y_test, model4)\n",
        "cm4"
      ]
    },
    {
      "cell_type": "code",
      "execution_count": null,
      "id": "48e95d67",
      "metadata": {
        "id": "48e95d67",
        "outputId": "6c08607f-72db-45b8-efe3-bc6c3bef135e"
      },
      "outputs": [
        {
          "name": "stdout",
          "output_type": "stream",
          "text": [
            "classification report:               precision    recall  f1-score   support\n",
            "\n",
            "         0.0       0.72      0.62      0.67       119\n",
            "         1.0       0.69      0.78      0.73       130\n",
            "\n",
            "    accuracy                           0.70       249\n",
            "   macro avg       0.71      0.70      0.70       249\n",
            "weighted avg       0.70      0.70      0.70       249\n",
            "\n"
          ]
        }
      ],
      "source": [
        "# classification report\n",
        "print('classification report:', classification_report(y_test, model4))"
      ]
    },
    {
      "cell_type": "markdown",
      "id": "33f22aa0",
      "metadata": {
        "id": "33f22aa0"
      },
      "source": [
        "# SVM Model Performance"
      ]
    },
    {
      "cell_type": "code",
      "execution_count": null,
      "id": "2d46540b",
      "metadata": {
        "id": "2d46540b",
        "outputId": "477df31d-c9b3-4c86-fc00-a2be2732649f"
      },
      "outputs": [
        {
          "name": "stdout",
          "output_type": "stream",
          "text": [
            "Testing Accuracy SVM Machine: 0.6959459459459459\n",
            "Testing sensitivity/recall for SVM Machine: 1.0\n",
            "Testing Specificity for SVM Machine: 0.3918918918918919\n",
            "Testing Precision for SVM Machine: 0.6218487394957983\n"
          ]
        },
        {
          "data": {
            "image/png": "[encoded data removed]",
            "text/plain": [
              "<Figure size 576x360 with 2 Axes>"
            ]
          },
          "metadata": {
            "needs_background": "light"
          },
          "output_type": "display_data"
        }
      ],
      "source": [
        "plt.figure(figsize=(8, 5))\n",
        "sns.heatmap (cm4, linewidth=.01,\n",
        "             annot=True,cmap=\"winter\")\n",
        "plt.title('SVM Confusion matrix')\n",
        "plt.ylabel('Actual Class')\n",
        "plt.xlabel('predicted Class')\n",
        "\n",
        "# show all the evaluation metrics\n",
        "TP=cm4[0][0]\n",
        "TN=cm4[1][0]\n",
        "FP=cm4[0][1]\n",
        "# print(round(accuracy_score(svm_pred,y_test)*100,2))\n",
        "print('Testing Accuracy SVM Machine:',\n",
        "      (TP+TN)/(TP+TN+FN+FP))\n",
        "print('Testing sensitivity/recall for SVM Machine:',\n",
        "      (TP/(TP+FN)))\n",
        "print('Testing Specificity for SVM Machine:',\n",
        "      (TN/(TN+FP)))\n",
        "print('Testing Precision for SVM Machine:',\n",
        "      (TP/(TP+FP)))"
      ]
    },
    {
      "cell_type": "code",
      "execution_count": null,
      "id": "f00a6626",
      "metadata": {
        "id": "f00a6626"
      },
      "outputs": [],
      "source": []
    },
    {
      "cell_type": "code",
      "execution_count": null,
      "id": "de179190",
      "metadata": {
        "id": "de179190"
      },
      "outputs": [],
      "source": []
    }
  ],
  "metadata": {
    "kernelspec": {
      "display_name": "Python 3 (ipykernel)",
      "language": "python",
      "name": "python3"
    },
    "language_info": {
      "codemirror_mode": {
        "name": "ipython",
        "version": 3
      },
      "file_extension": ".py",
      "mimetype": "text/x-python",
      "name": "python",
      "nbconvert_exporter": "python",
      "pygments_lexer": "ipython3",
      "version": "3.9.7"
    },
    "colab": {
      "provenance": []
    }
  },
  "nbformat": 4,
  "nbformat_minor": 5
}